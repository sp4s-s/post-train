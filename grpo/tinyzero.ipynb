{
 "cells": [
  {
   "cell_type": "code",
   "execution_count": null,
   "id": "9a994306",
   "metadata": {
    "vscode": {
     "languageId": "plaintext"
    }
   },
   "outputs": [],
   "source": [
    "git clone https://github.com/Jiayi-Pan/TinyZero.git\n",
    "cd TinyZero\n",
    "\n",
    "conda create -n tinyzero python=3.10 -y\n",
    "conda activate tinyzero\n",
    "pip install torch==2.1.0 transformers==4.36.0 vllm==0.2.5 huggingface_hub datasets"
   ]
  },
  {
   "cell_type": "code",
   "execution_count": null,
   "id": "b42e2d95",
   "metadata": {
    "vscode": {
     "languageId": "plaintext"
    }
   },
   "outputs": [],
   "source": [
    "export DATA_DIR=\"./data/synthetic_rollouts\"\n",
    "mkdir -p $DATA_DIR"
   ]
  },
  {
   "cell_type": "code",
   "execution_count": null,
   "id": "fdba0e0a",
   "metadata": {
    "vscode": {
     "languageId": "plaintext"
    }
   },
   "outputs": [],
   "source": [
    "wget https://tau-bench.s3.amazonaws.com/tau_bench_v1.0.tar.gz -P $DATA_DIR\n",
    "tar -xzvf $DATA_DIR/tau_bench_v1.0.tar.gz -C $DATA_DIR\n",
    "export TAU_DATA=\"$DATA_DIR/tau_bench_v1.0\""
   ]
  },
  {
   "cell_type": "code",
   "execution_count": null,
   "id": "682c63ab",
   "metadata": {
    "vscode": {
     "languageId": "plaintext"
    }
   },
   "outputs": [],
   "source": [
    "# Model Configs\n",
    "export N_GPUS=2\n",
    "export BASE_MODEL=\"Qwen/Qwen1.5-3B\"  # HuggingFace model ID or local path\n",
    "export DATA_DIR=${DATA_DIR:-\"./data/synthetic_rollouts\"}  # Default to self-generated data\n",
    "export ROLLOUT_TP_SIZE=2\n",
    "export EXPERIMENT_NAME=\"countdown-qwen2.5-3b-instruct\"\n",
    "export VLLM_ATTENTION_BACKEND=\"XFORMERS\"\n",
    "\n"
   ]
  },
  {
   "cell_type": "code",
   "execution_count": null,
   "id": "46fb67d0",
   "metadata": {
    "vscode": {
     "languageId": "plaintext"
    }
   },
   "outputs": [],
   "source": [
    "python train.py \\\n",
    "  --model_name_or_path $BASE_MODEL \\\n",
    "  --data_path $DATA_DIR \\\n",
    "  --tau_data_path ${TAU_DATA:-\"\"} \\  # Only used if TAU-bench is provided\n",
    "  --output_dir \"./checkpoints/$EXPERIMENT_NAME\" \\\n",
    "  --num_train_epochs 3 \\\n",
    "  --per_device_train_batch_size 4 \\\n",
    "  --gradient_accumulation_steps 8 \\\n",
    "  --learning_rate 5e-5 \\\n",
    "  --lr_scheduler_type \"cosine\" \\\n",
    "  --logging_steps 10 \\\n",
    "  --save_steps 500 \\\n",
    "  --bf16 True \\\n",
    "  --tf32 True \\\n",
    "  --use_xformers True \\\n",
    "  --rollout_tp_size $ROLLOUT_TP_SIZE \\\n",
    "  --report_to \"wandb\"  # Optional"
   ]
  },
  {
   "cell_type": "code",
   "execution_count": null,
   "id": "fdaaba8e",
   "metadata": {
    "vscode": {
     "languageId": "plaintext"
    }
   },
   "outputs": [],
   "source": [
    "chmod +x ./scripts/train_tiny_zero.sh\n",
    "\n",
    "# Run training (self-generated data only)\n",
    "bash ./scripts/train_tiny_zero.sh\n",
    "\n",
    "# Or with TAU-bench hybrid training\n",
    "export TAU_DATA=\"$DATA_DIR/tau_bench_v1.0\"\n",
    "bash ./scripts/train_tiny_zero.sh"
   ]
  },
  {
   "cell_type": "code",
   "execution_count": null,
   "id": "2ec67a1d",
   "metadata": {
    "vscode": {
     "languageId": "plaintext"
    }
   },
   "outputs": [],
   "source": []
  },
  {
   "cell_type": "code",
   "execution_count": null,
   "id": "40ccce8d",
   "metadata": {
    "vscode": {
     "languageId": "plaintext"
    }
   },
   "outputs": [],
   "source": []
  },
  {
   "cell_type": "code",
   "execution_count": null,
   "id": "0ad68292",
   "metadata": {
    "vscode": {
     "languageId": "plaintext"
    }
   },
   "outputs": [],
   "source": []
  },
  {
   "cell_type": "code",
   "execution_count": null,
   "id": "58f111c7",
   "metadata": {
    "vscode": {
     "languageId": "plaintext"
    }
   },
   "outputs": [],
   "source": [
    "./data/\n",
    "├── synthetic_rollouts/       # Self generated rollouts [ Synthetic Data gen ]\n",
    "│   ├── rollout_001.jsonl    # Format: {\"input\": \"...\", \"output\": \"...\", \"reward\": float}\n",
    "│   └── ...\n",
    "└── tau_bench_v1.0/          \n",
    "    ├── train.jsonl\n",
    "    └── test.jsonl\n",
    "\n",
    "./checkpoints/\n",
    "└── countdown-qwen2.5-3b-instruct/\n",
    "    ├── pytorch_model.bin\n",
    "    └── config.json"
   ]
  },
  {
   "cell_type": "code",
   "execution_count": null,
   "id": "1de61759",
   "metadata": {
    "vscode": {
     "languageId": "plaintext"
    }
   },
   "outputs": [],
   "source": [
    "@misc{tau2023,\n",
    "  title={TAU-bench: A Benchmark for Real-World Reasoning},\n",
    "  author={TAU Team},\n",
    "  year={2023},\n",
    "  url={https://tau-bench.github.io}\n",
    "}"
   ]
  },
  {
   "cell_type": "code",
   "execution_count": null,
   "id": "bcd976e3",
   "metadata": {
    "vscode": {
     "languageId": "plaintext"
    }
   },
   "outputs": [],
   "source": []
  },
  {
   "cell_type": "code",
   "execution_count": null,
   "id": "9d4ab9ee",
   "metadata": {
    "vscode": {
     "languageId": "plaintext"
    }
   },
   "outputs": [],
   "source": []
  },
  {
   "cell_type": "code",
   "execution_count": null,
   "id": "6a1f032c",
   "metadata": {
    "vscode": {
     "languageId": "plaintext"
    }
   },
   "outputs": [],
   "source": []
  },
  {
   "cell_type": "code",
   "execution_count": null,
   "id": "56e4221d",
   "metadata": {
    "vscode": {
     "languageId": "plaintext"
    }
   },
   "outputs": [],
   "source": []
  },
  {
   "cell_type": "code",
   "execution_count": null,
   "id": "a4b2f891",
   "metadata": {
    "vscode": {
     "languageId": "plaintext"
    }
   },
   "outputs": [],
   "source": []
  },
  {
   "cell_type": "code",
   "execution_count": null,
   "id": "e2f5b453",
   "metadata": {
    "vscode": {
     "languageId": "plaintext"
    }
   },
   "outputs": [],
   "source": []
  },
  {
   "cell_type": "code",
   "execution_count": null,
   "id": "b5f39670",
   "metadata": {
    "vscode": {
     "languageId": "plaintext"
    }
   },
   "outputs": [],
   "source": []
  },
  {
   "cell_type": "code",
   "execution_count": null,
   "id": "ccce37da",
   "metadata": {
    "vscode": {
     "languageId": "plaintext"
    }
   },
   "outputs": [],
   "source": []
  },
  {
   "cell_type": "code",
   "execution_count": null,
   "id": "aff36010",
   "metadata": {
    "vscode": {
     "languageId": "plaintext"
    }
   },
   "outputs": [],
   "source": []
  },
  {
   "cell_type": "code",
   "execution_count": null,
   "id": "3a0c34ad",
   "metadata": {
    "vscode": {
     "languageId": "plaintext"
    }
   },
   "outputs": [],
   "source": []
  },
  {
   "cell_type": "code",
   "execution_count": null,
   "id": "a2a1e3cb",
   "metadata": {
    "vscode": {
     "languageId": "plaintext"
    }
   },
   "outputs": [],
   "source": []
  },
  {
   "cell_type": "code",
   "execution_count": null,
   "id": "4d73c79d",
   "metadata": {
    "vscode": {
     "languageId": "plaintext"
    }
   },
   "outputs": [],
   "source": []
  },
  {
   "cell_type": "code",
   "execution_count": null,
   "id": "97012d55",
   "metadata": {
    "vscode": {
     "languageId": "plaintext"
    }
   },
   "outputs": [],
   "source": []
  },
  {
   "cell_type": "code",
   "execution_count": null,
   "id": "3c8d3bb8",
   "metadata": {
    "vscode": {
     "languageId": "plaintext"
    }
   },
   "outputs": [],
   "source": []
  },
  {
   "cell_type": "code",
   "execution_count": null,
   "id": "13fbefba",
   "metadata": {
    "vscode": {
     "languageId": "plaintext"
    }
   },
   "outputs": [],
   "source": []
  },
  {
   "cell_type": "code",
   "execution_count": null,
   "id": "c168a08f",
   "metadata": {
    "vscode": {
     "languageId": "plaintext"
    }
   },
   "outputs": [],
   "source": []
  },
  {
   "cell_type": "code",
   "execution_count": null,
   "id": "7ca34b77",
   "metadata": {
    "vscode": {
     "languageId": "plaintext"
    }
   },
   "outputs": [],
   "source": []
  },
  {
   "cell_type": "code",
   "execution_count": null,
   "id": "760ecc7c",
   "metadata": {
    "vscode": {
     "languageId": "plaintext"
    }
   },
   "outputs": [],
   "source": []
  },
  {
   "cell_type": "code",
   "execution_count": null,
   "id": "d6b353c6",
   "metadata": {
    "vscode": {
     "languageId": "plaintext"
    }
   },
   "outputs": [],
   "source": []
  },
  {
   "cell_type": "code",
   "execution_count": null,
   "id": "59bae420",
   "metadata": {
    "vscode": {
     "languageId": "plaintext"
    }
   },
   "outputs": [],
   "source": []
  },
  {
   "cell_type": "code",
   "execution_count": null,
   "id": "43040d6a",
   "metadata": {
    "vscode": {
     "languageId": "plaintext"
    }
   },
   "outputs": [],
   "source": []
  },
  {
   "cell_type": "code",
   "execution_count": null,
   "id": "41313162",
   "metadata": {
    "vscode": {
     "languageId": "plaintext"
    }
   },
   "outputs": [],
   "source": []
  },
  {
   "cell_type": "code",
   "execution_count": null,
   "id": "3928f3fe",
   "metadata": {
    "vscode": {
     "languageId": "plaintext"
    }
   },
   "outputs": [],
   "source": []
  },
  {
   "cell_type": "code",
   "execution_count": null,
   "id": "fbd49491",
   "metadata": {
    "vscode": {
     "languageId": "plaintext"
    }
   },
   "outputs": [],
   "source": []
  },
  {
   "cell_type": "code",
   "execution_count": null,
   "id": "b58ddce3",
   "metadata": {
    "vscode": {
     "languageId": "plaintext"
    }
   },
   "outputs": [],
   "source": []
  },
  {
   "cell_type": "code",
   "execution_count": null,
   "id": "4cd629ae",
   "metadata": {
    "vscode": {
     "languageId": "plaintext"
    }
   },
   "outputs": [],
   "source": []
  },
  {
   "cell_type": "code",
   "execution_count": null,
   "id": "3c2a219b",
   "metadata": {
    "vscode": {
     "languageId": "plaintext"
    }
   },
   "outputs": [],
   "source": []
  },
  {
   "cell_type": "code",
   "execution_count": null,
   "id": "32d2e809",
   "metadata": {
    "vscode": {
     "languageId": "plaintext"
    }
   },
   "outputs": [],
   "source": []
  }
 ],
 "metadata": {
  "language_info": {
   "name": "python"
  }
 },
 "nbformat": 4,
 "nbformat_minor": 5
}
