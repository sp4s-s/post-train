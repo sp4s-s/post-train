{
  "nbformat": 4,
  "nbformat_minor": 0,
  "metadata": {
    "colab": {
      "provenance": [],
      "gpuType": "T4"
    },
    "kernelspec": {
      "name": "python3",
      "display_name": "Python 3"
    },
    "language_info": {
      "name": "python"
    },
    "accelerator": "GPU"
  },
  "cells": [
    {
      "cell_type": "code",
      "source": [
        "!curl -s -o Miniconda3.sh https://repo.anaconda.com/miniconda/Miniconda3-latest-Linux-x86_64.sh\n",
        "!bash Miniconda3.sh -b -f -p /usr/local\n",
        "\n",
        "import sys\n",
        "sys.path.append(\"/usr/local/lib/python3.10/site-packages\")"
      ],
      "metadata": {
        "colab": {
          "base_uri": "https://localhost:8080/"
        },
        "id": "XY0Pi5UrRiRV",
        "outputId": "c11da6f7-b642-4f86-faaa-23cbc74af3af"
      },
      "execution_count": 1,
      "outputs": [
        {
          "output_type": "stream",
          "name": "stdout",
          "text": [
            "PREFIX=/usr/local\n",
            "Unpacking payload ...\n",
            "entry_point.py:256: DeprecationWarning: Python 3.14 will, by default, filter extracted tar archives and reject files or modify their metadata. Use the filter argument to control this behavior.\n",
            "entry_point.py:256: DeprecationWarning: Python 3.14 will, by default, filter extracted tar archives and reject files or modify their metadata. Use the filter argument to control this behavior.\n",
            "\n",
            "Installing base environment...\n",
            "\n",
            "Preparing transaction: ...working... done\n",
            "Executing transaction: ...working... done\n",
            "entry_point.py:256: DeprecationWarning: Python 3.14 will, by default, filter extracted tar archives and reject files or modify their metadata. Use the filter argument to control this behavior.\n",
            "installation finished.\n",
            "WARNING:\n",
            "    You currently have a PYTHONPATH environment variable set. This may cause\n",
            "    unexpected behavior when running the Python interpreter in Miniconda3.\n",
            "    For best results, please verify that your PYTHONPATH only points to\n",
            "    directories of packages that are compatible with the Python interpreter\n",
            "    in Miniconda3: /usr/local\n"
          ]
        }
      ]
    },
    {
      "cell_type": "code",
      "execution_count": 2,
      "metadata": {
        "colab": {
          "base_uri": "https://localhost:8080/"
        },
        "collapsed": true,
        "id": "afbsakKeG1BO",
        "outputId": "03b441a9-de39-4246-f30a-1fc15be890cf"
      },
      "outputs": [
        {
          "output_type": "stream",
          "name": "stdout",
          "text": [
            "Cloning into 'TinyZero'...\n",
            "remote: Enumerating objects: 1669, done.\u001b[K\n",
            "remote: Counting objects: 100% (714/714), done.\u001b[K\n",
            "remote: Compressing objects: 100% (132/132), done.\u001b[K\n",
            "remote: Total 1669 (delta 597), reused 582 (delta 582), pack-reused 955 (from 2)\u001b[K\n",
            "Receiving objects: 100% (1669/1669), 2.32 MiB | 23.32 MiB/s, done.\n",
            "Resolving deltas: 100% (1034/1034), done.\n",
            "/content/TinyZero\n",
            "Channels:\n",
            " - defaults\n",
            "Platform: linux-64\n",
            "Collecting package metadata (repodata.json): - \b\b\\ \b\b| \b\b/ \b\b- \b\b\\ \b\b| \b\b/ \b\b- \b\b\\ \b\bdone\n",
            "Solving environment: / \b\bdone\n",
            "\n",
            "## Package Plan ##\n",
            "\n",
            "  environment location: /usr/local/envs/tinyzero\n",
            "\n",
            "  added / updated specs:\n",
            "    - python=3.10\n",
            "\n",
            "\n",
            "The following packages will be downloaded:\n",
            "\n",
            "    package                    |            build\n",
            "    ---------------------------|-----------------\n",
            "    pip-25.1                   |     pyhc872135_2         1.3 MB\n",
            "    python-3.10.16             |       he870216_1        26.9 MB\n",
            "    setuptools-78.1.1          |  py310h06a4308_0         1.7 MB\n",
            "    tzdata-2025b               |       h04d1e81_0         116 KB\n",
            "    wheel-0.45.1               |  py310h06a4308_0         115 KB\n",
            "    ------------------------------------------------------------\n",
            "                                           Total:        30.0 MB\n",
            "\n",
            "The following NEW packages will be INSTALLED:\n",
            "\n",
            "  _libgcc_mutex      pkgs/main/linux-64::_libgcc_mutex-0.1-main \n",
            "  _openmp_mutex      pkgs/main/linux-64::_openmp_mutex-5.1-1_gnu \n",
            "  bzip2              pkgs/main/linux-64::bzip2-1.0.8-h5eee18b_6 \n",
            "  ca-certificates    pkgs/main/linux-64::ca-certificates-2025.2.25-h06a4308_0 \n",
            "  ld_impl_linux-64   pkgs/main/linux-64::ld_impl_linux-64-2.40-h12ee557_0 \n",
            "  libffi             pkgs/main/linux-64::libffi-3.4.4-h6a678d5_1 \n",
            "  libgcc-ng          pkgs/main/linux-64::libgcc-ng-11.2.0-h1234567_1 \n",
            "  libgomp            pkgs/main/linux-64::libgomp-11.2.0-h1234567_1 \n",
            "  libstdcxx-ng       pkgs/main/linux-64::libstdcxx-ng-11.2.0-h1234567_1 \n",
            "  libuuid            pkgs/main/linux-64::libuuid-1.41.5-h5eee18b_0 \n",
            "  ncurses            pkgs/main/linux-64::ncurses-6.4-h6a678d5_0 \n",
            "  openssl            pkgs/main/linux-64::openssl-3.0.16-h5eee18b_0 \n",
            "  pip                pkgs/main/noarch::pip-25.1-pyhc872135_2 \n",
            "  python             pkgs/main/linux-64::python-3.10.16-he870216_1 \n",
            "  readline           pkgs/main/linux-64::readline-8.2-h5eee18b_0 \n",
            "  setuptools         pkgs/main/linux-64::setuptools-78.1.1-py310h06a4308_0 \n",
            "  sqlite             pkgs/main/linux-64::sqlite-3.45.3-h5eee18b_0 \n",
            "  tk                 pkgs/main/linux-64::tk-8.6.14-h39e8969_0 \n",
            "  tzdata             pkgs/main/noarch::tzdata-2025b-h04d1e81_0 \n",
            "  wheel              pkgs/main/linux-64::wheel-0.45.1-py310h06a4308_0 \n",
            "  xz                 pkgs/main/linux-64::xz-5.6.4-h5eee18b_1 \n",
            "  zlib               pkgs/main/linux-64::zlib-1.2.13-h5eee18b_1 \n",
            "\n",
            "\n",
            "\n",
            "Downloading and Extracting Packages:\n",
            "python-3.10.16       | 26.9 MB   | :   0% 0/1 [00:00<?, ?it/s]\n",
            "setuptools-78.1.1    | 1.7 MB    | :   0% 0/1 [00:00<?, ?it/s]\u001b[A\n",
            "\n",
            "pip-25.1             | 1.3 MB    | :   0% 0/1 [00:00<?, ?it/s]\u001b[A\u001b[A\n",
            "\n",
            "\n",
            "tzdata-2025b         | 116 KB    | :   0% 0/1 [00:00<?, ?it/s]\u001b[A\u001b[A\u001b[A\n",
            "\n",
            "\n",
            "\n",
            "wheel-0.45.1         | 115 KB    | :   0% 0/1 [00:00<?, ?it/s]\u001b[A\u001b[A\u001b[A\u001b[A\n",
            "\n",
            "\n",
            "tzdata-2025b         | 116 KB    | : 100% 1.0/1 [00:00<00:00, 12.14it/s]\u001b[A\u001b[A\u001b[A\n",
            "\n",
            "\n",
            "\n",
            "wheel-0.45.1         | 115 KB    | : 100% 1.0/1 [00:00<00:00, 11.97it/s]\u001b[A\u001b[A\u001b[A\u001b[A\n",
            "setuptools-78.1.1    | 1.7 MB    | :  52% 0.5243383364803021/1 [00:00<00:00,  5.16it/s]\u001b[A\n",
            "\n",
            "python-3.10.16       | 26.9 MB   | :   2% 0.01513028212749276/1 [00:00<00:07,  7.15s/it]\n",
            "\n",
            "pip-25.1             | 1.3 MB    | : 100% 1.0/1 [00:00<00:00,  4.85it/s]               \u001b[A\u001b[A\n",
            "python-3.10.16       | 26.9 MB   | :  25% 0.24673998546372808/1 [00:00<00:00,  1.36it/s]\n",
            "\n",
            "\n",
            "\n",
            "wheel-0.45.1         | 115 KB    | : 100% 1.0/1 [00:00<00:00,  4.46it/s]\u001b[A\u001b[A\u001b[A\u001b[A\n",
            "\n",
            "\n",
            "\n",
            "python-3.10.16       | 26.9 MB   | :  76% 0.7634973135104038/1 [00:00<00:00,  2.12it/s]\n",
            "\n",
            "\n",
            "tzdata-2025b         | 116 KB    | : 100% 1.0/1 [00:00<00:00,  1.42it/s]\u001b[A\u001b[A\u001b[A\n",
            "\n",
            "\n",
            "tzdata-2025b         | 116 KB    | : 100% 1.0/1 [00:00<00:00,  1.42it/s]\u001b[A\u001b[A\u001b[A\n",
            "\n",
            "pip-25.1             | 1.3 MB    | : 100% 1.0/1 [00:00<00:00,  1.08it/s]\u001b[A\u001b[A\n",
            "\n",
            "python-3.10.16       | 26.9 MB   | : 100% 1.0/1 [00:00<00:00,  1.08s/it]\n",
            "                                                                        \n",
            "                                                                        \u001b[A\n",
            "\n",
            "                                                                        \u001b[A\u001b[A\n",
            "\n",
            "\n",
            "                                                                        \u001b[A\u001b[A\u001b[A\n",
            "\n",
            "\n",
            "\n",
            "                                                                        \u001b[A\u001b[A\u001b[A\u001b[A\n",
            "Preparing transaction: \\ \b\b| \b\bdone\n",
            "Verifying transaction: - \b\b\\ \b\b| \b\b/ \b\b- \b\b\\ \b\b| \b\b/ \b\b- \b\b\\ \b\b| \b\b/ \b\bdone\n",
            "Executing transaction: \\ \b\b| \b\b/ \b\b- \b\b\\ \b\b| \b\b/ \b\b- \b\b\\ \b\b| \b\b/ \b\b- \b\b\\ \b\b| \b\b/ \b\b- \b\b\\ \b\b| \b\b/ \b\b- \b\b\\ \b\b| \b\b/ \b\b- \b\b\\ \b\b| \b\b/ \b\bdone\n",
            "#\n",
            "# To activate this environment, use\n",
            "#\n",
            "#     $ conda activate tinyzero\n",
            "#\n",
            "# To deactivate an active environment, use\n",
            "#\n",
            "#     $ conda deactivate\n",
            "\n",
            "\n",
            "CondaError: Run 'conda init' before 'conda activate'\n",
            "\n",
            "\u001b[31mERROR: Could not find a version that satisfies the requirement torch==2.1.0 (from versions: 2.5.0, 2.5.1, 2.6.0, 2.7.0)\u001b[0m\u001b[31m\n",
            "\u001b[0m\u001b[31mERROR: No matching distribution found for torch==2.1.0\u001b[0m\u001b[31m\n",
            "\u001b[0m"
          ]
        }
      ],
      "source": [
        "! git clone https://github.com/Jiayi-Pan/TinyZero.git\n",
        "%cd TinyZero\n",
        "! conda create -n tinyzero python=3.10 -y\n",
        "! conda activate tinyzero\n",
        "! pip install torch==2.1.0 transformers==4.36.0 vllm==0.2.5 huggingface_hub datasets"
      ]
    },
    {
      "cell_type": "code",
      "source": [
        "!conda create -n zero python=3.9\n",
        "!pip install torch==2.4.0 --index-url https://download.pytorch.org/whl/cu121\n",
        "!pip3 install vllm==0.6.3\n",
        "!pip3 install ray\n",
        "!pip install -e .\n",
        "!pip3 install flash-attn --no-build-isolationy\n",
        "!pip install wandb IPython matplotlib"
      ],
      "metadata": {
        "colab": {
          "base_uri": "https://localhost:8080/",
          "height": 1000
        },
        "collapsed": true,
        "id": "3xhoDCMbHDUE",
        "outputId": "597c427a-8845-4c71-b6af-81eb473b50c3"
      },
      "execution_count": 4,
      "outputs": [
        {
          "output_type": "stream",
          "name": "stdout",
          "text": [
            "Channels:\n",
            " - defaults\n",
            "Platform: linux-64\n",
            "Collecting package metadata (repodata.json): - \b\b\\ \b\b| \b\b/ \b\b- \b\bdone\n",
            "Solving environment: | \b\bdone\n",
            "\n",
            "## Package Plan ##\n",
            "\n",
            "  environment location: /usr/local/envs/zero\n",
            "\n",
            "  added / updated specs:\n",
            "    - python=3.9\n",
            "\n",
            "\n",
            "The following packages will be downloaded:\n",
            "\n",
            "    package                    |            build\n",
            "    ---------------------------|-----------------\n",
            "    python-3.9.21              |       he870216_1        25.1 MB\n",
            "    setuptools-78.1.1          |   py39h06a4308_0         1.7 MB\n",
            "    wheel-0.45.1               |   py39h06a4308_0         114 KB\n",
            "    ------------------------------------------------------------\n",
            "                                           Total:        26.9 MB\n",
            "\n",
            "The following NEW packages will be INSTALLED:\n",
            "\n",
            "  _libgcc_mutex      pkgs/main/linux-64::_libgcc_mutex-0.1-main \n",
            "  _openmp_mutex      pkgs/main/linux-64::_openmp_mutex-5.1-1_gnu \n",
            "  ca-certificates    pkgs/main/linux-64::ca-certificates-2025.2.25-h06a4308_0 \n",
            "  ld_impl_linux-64   pkgs/main/linux-64::ld_impl_linux-64-2.40-h12ee557_0 \n",
            "  libffi             pkgs/main/linux-64::libffi-3.4.4-h6a678d5_1 \n",
            "  libgcc-ng          pkgs/main/linux-64::libgcc-ng-11.2.0-h1234567_1 \n",
            "  libgomp            pkgs/main/linux-64::libgomp-11.2.0-h1234567_1 \n",
            "  libstdcxx-ng       pkgs/main/linux-64::libstdcxx-ng-11.2.0-h1234567_1 \n",
            "  ncurses            pkgs/main/linux-64::ncurses-6.4-h6a678d5_0 \n",
            "  openssl            pkgs/main/linux-64::openssl-3.0.16-h5eee18b_0 \n",
            "  pip                pkgs/main/noarch::pip-25.1-pyhc872135_2 \n",
            "  python             pkgs/main/linux-64::python-3.9.21-he870216_1 \n",
            "  readline           pkgs/main/linux-64::readline-8.2-h5eee18b_0 \n",
            "  setuptools         pkgs/main/linux-64::setuptools-78.1.1-py39h06a4308_0 \n",
            "  sqlite             pkgs/main/linux-64::sqlite-3.45.3-h5eee18b_0 \n",
            "  tk                 pkgs/main/linux-64::tk-8.6.14-h39e8969_0 \n",
            "  tzdata             pkgs/main/noarch::tzdata-2025b-h04d1e81_0 \n",
            "  wheel              pkgs/main/linux-64::wheel-0.45.1-py39h06a4308_0 \n",
            "  xz                 pkgs/main/linux-64::xz-5.6.4-h5eee18b_1 \n",
            "  zlib               pkgs/main/linux-64::zlib-1.2.13-h5eee18b_1 \n",
            "\n",
            "\n",
            "Proceed ([y]/n)? y\n",
            "\n",
            "\n",
            "Downloading and Extracting Packages:\n",
            "python-3.9.21        | 25.1 MB   | :   0% 0/1 [00:00<?, ?it/s]\n",
            "setuptools-78.1.1    | 1.7 MB    | :   0% 0/1 [00:00<?, ?it/s]\u001b[A\n",
            "\n",
            "wheel-0.45.1         | 114 KB    | :   0% 0/1 [00:00<?, ?it/s]\u001b[A\u001b[A\n",
            "\n",
            "python-3.9.21        | 25.1 MB   | :   5% 0.05351684779665129/1 [00:00<00:01,  1.87s/it]\n",
            "setuptools-78.1.1    | 1.7 MB    | : 100% 1.0/1 [00:00<00:00,  8.46it/s]\u001b[A\n",
            "setuptools-78.1.1    | 1.7 MB    | : 100% 1.0/1 [00:00<00:00,  8.46it/s]\u001b[A\n",
            "\n",
            "wheel-0.45.1         | 114 KB    | : 100% 1.0/1 [00:00<00:00,  6.25it/s]\u001b[A\u001b[A\n",
            "\n",
            "python-3.9.21        | 25.1 MB   | :  72% 0.7230997341826605/1 [00:00<00:00,  2.74it/s]\n",
            "                                                                        \n",
            "                                                                        \u001b[A\n",
            "\n",
            "                                                                        \u001b[A\u001b[A\n",
            "Preparing transaction: - \b\b\\ \b\bdone\n",
            "Verifying transaction: / \b\b- \b\b\\ \b\b| \b\b/ \b\b- \b\b\\ \b\b| \b\b/ \b\b- \b\b\\ \b\bdone\n",
            "Executing transaction: / \b\b- \b\b\\ \b\b| \b\b/ \b\b- \b\b\\ \b\b| \b\b/ \b\b- \b\b\\ \b\b| \b\b/ \b\b- \b\b\\ \b\b| \b\b/ \b\b- \b\b\\ \b\b| \b\b/ \b\b- \b\b\\ \b\b| \b\b/ \b\b- \b\b\\ \b\b| \b\b/ \b\b- \b\b\\ \b\b| \b\b/ \b\b- \b\bdone\n",
            "#\n",
            "# To activate this environment, use\n",
            "#\n",
            "#     $ conda activate zero\n",
            "#\n",
            "# To deactivate an active environment, use\n",
            "#\n",
            "#     $ conda deactivate\n",
            "\n",
            "Looking in indexes: https://download.pytorch.org/whl/cu121\n",
            "\u001b[31mERROR: Could not find a version that satisfies the requirement torch==2.4.0 (from versions: 2.5.0+cu121, 2.5.1+cu121)\u001b[0m\u001b[31m\n",
            "\u001b[0m\u001b[31mERROR: No matching distribution found for torch==2.4.0\u001b[0m\u001b[31m\n",
            "\u001b[0mCollecting vllm==0.6.3\n",
            "  Downloading vllm-0.6.3-cp38-abi3-manylinux1_x86_64.whl.metadata (10 kB)\n",
            "Collecting psutil (from vllm==0.6.3)\n",
            "  Downloading psutil-7.0.0-cp36-abi3-manylinux_2_12_x86_64.manylinux2010_x86_64.manylinux_2_17_x86_64.manylinux2014_x86_64.whl.metadata (22 kB)\n",
            "Collecting sentencepiece (from vllm==0.6.3)\n",
            "  Downloading sentencepiece-0.2.0.tar.gz (2.6 MB)\n",
            "\u001b[2K     \u001b[90m━━━━━━━━━━━━━━━━━━━━━━━━━━━━━━━━━━━━━━━━\u001b[0m \u001b[32m2.6/2.6 MB\u001b[0m \u001b[31m58.4 MB/s\u001b[0m eta \u001b[36m0:00:00\u001b[0m\n",
            "\u001b[?25h  Preparing metadata (setup.py) ... \u001b[?25l\u001b[?25hdone\n",
            "Collecting numpy<2.0.0 (from vllm==0.6.3)\n",
            "  Downloading numpy-1.26.4.tar.gz (15.8 MB)\n",
            "\u001b[2K     \u001b[90m━━━━━━━━━━━━━━━━━━━━━━━━━━━━━━━━━━━━━━━\u001b[0m \u001b[32m15.8/15.8 MB\u001b[0m \u001b[31m137.9 MB/s\u001b[0m eta \u001b[36m0:00:00\u001b[0m\n",
            "\u001b[?25h  Installing build dependencies ... \u001b[?25l\u001b[?25hdone\n",
            "  Getting requirements to build wheel ... \u001b[?25l\u001b[?25hdone\n",
            "  Installing backend dependencies ... \u001b[?25l\u001b[?25hdone\n",
            "  Preparing metadata (pyproject.toml) ... \u001b[?25l\u001b[?25hdone\n",
            "Requirement already satisfied: requests>=2.26.0 in /usr/local/lib/python3.13/site-packages (from vllm==0.6.3) (2.32.3)\n",
            "Requirement already satisfied: tqdm in /usr/local/lib/python3.13/site-packages (from vllm==0.6.3) (4.67.1)\n",
            "Collecting py-cpuinfo (from vllm==0.6.3)\n",
            "  Downloading py_cpuinfo-9.0.0-py3-none-any.whl.metadata (794 bytes)\n",
            "Collecting transformers>=4.45.0 (from vllm==0.6.3)\n",
            "  Downloading transformers-4.51.3-py3-none-any.whl.metadata (38 kB)\n",
            "Collecting tokenizers>=0.19.1 (from vllm==0.6.3)\n",
            "  Downloading tokenizers-0.21.1-cp39-abi3-manylinux_2_17_x86_64.manylinux2014_x86_64.whl.metadata (6.8 kB)\n",
            "Collecting protobuf (from vllm==0.6.3)\n",
            "  Downloading protobuf-6.30.2-cp39-abi3-manylinux2014_x86_64.whl.metadata (593 bytes)\n",
            "Collecting aiohttp (from vllm==0.6.3)\n",
            "  Downloading aiohttp-3.11.18-cp313-cp313-manylinux_2_17_x86_64.manylinux2014_x86_64.whl.metadata (7.7 kB)\n",
            "Collecting openai>=1.40.0 (from vllm==0.6.3)\n",
            "  Downloading openai-1.77.0-py3-none-any.whl.metadata (25 kB)\n",
            "Collecting uvicorn[standard] (from vllm==0.6.3)\n",
            "  Downloading uvicorn-0.34.2-py3-none-any.whl.metadata (6.5 kB)\n",
            "Requirement already satisfied: pydantic>=2.9 in /usr/local/lib/python3.13/site-packages (from vllm==0.6.3) (2.10.3)\n",
            "Collecting pillow (from vllm==0.6.3)\n",
            "  Downloading pillow-11.2.1-cp313-cp313-manylinux_2_28_x86_64.whl.metadata (8.9 kB)\n",
            "Collecting prometheus-client>=0.18.0 (from vllm==0.6.3)\n",
            "  Downloading prometheus_client-0.21.1-py3-none-any.whl.metadata (1.8 kB)\n",
            "Collecting prometheus-fastapi-instrumentator>=7.0.0 (from vllm==0.6.3)\n",
            "  Downloading prometheus_fastapi_instrumentator-7.1.0-py3-none-any.whl.metadata (13 kB)\n",
            "Collecting tiktoken>=0.6.0 (from vllm==0.6.3)\n",
            "  Downloading tiktoken-0.9.0-cp313-cp313-manylinux_2_17_x86_64.manylinux2014_x86_64.whl.metadata (6.7 kB)\n",
            "Collecting lm-format-enforcer==0.10.6 (from vllm==0.6.3)\n",
            "  Downloading lm_format_enforcer-0.10.6-py3-none-any.whl.metadata (16 kB)\n",
            "Collecting outlines<0.1,>=0.0.43 (from vllm==0.6.3)\n",
            "  Downloading outlines-0.0.46-py3-none-any.whl.metadata (15 kB)\n",
            "Requirement already satisfied: typing-extensions>=4.10 in /usr/local/lib/python3.13/site-packages (from vllm==0.6.3) (4.12.2)\n",
            "Collecting filelock>=3.10.4 (from vllm==0.6.3)\n",
            "  Downloading filelock-3.18.0-py3-none-any.whl.metadata (2.9 kB)\n",
            "Collecting partial-json-parser (from vllm==0.6.3)\n",
            "  Downloading partial_json_parser-0.2.1.1.post5-py3-none-any.whl.metadata (6.1 kB)\n",
            "Collecting pyzmq (from vllm==0.6.3)\n",
            "  Downloading pyzmq-26.4.0-cp313-cp313-manylinux_2_28_x86_64.whl.metadata (6.0 kB)\n",
            "Collecting msgspec (from vllm==0.6.3)\n",
            "  Downloading msgspec-0.19.0-cp313-cp313-manylinux_2_17_x86_64.manylinux2014_x86_64.whl.metadata (6.9 kB)\n",
            "Collecting gguf==0.10.0 (from vllm==0.6.3)\n",
            "  Downloading gguf-0.10.0-py3-none-any.whl.metadata (3.5 kB)\n",
            "Collecting importlib-metadata (from vllm==0.6.3)\n",
            "  Downloading importlib_metadata-8.7.0-py3-none-any.whl.metadata (4.8 kB)\n",
            "Collecting mistral-common>=1.4.4 (from mistral-common[opencv]>=1.4.4->vllm==0.6.3)\n",
            "  Downloading mistral_common-1.5.4-py3-none-any.whl.metadata (4.5 kB)\n",
            "Collecting pyyaml (from vllm==0.6.3)\n",
            "  Downloading PyYAML-6.0.2-cp313-cp313-manylinux_2_17_x86_64.manylinux2014_x86_64.whl.metadata (2.1 kB)\n",
            "Collecting einops (from vllm==0.6.3)\n",
            "  Downloading einops-0.8.1-py3-none-any.whl.metadata (13 kB)\n",
            "Collecting ray>=2.9 (from vllm==0.6.3)\n",
            "  Downloading ray-2.45.0-cp313-cp313-manylinux2014_x86_64.whl.metadata (19 kB)\n",
            "Collecting nvidia-ml-py (from vllm==0.6.3)\n",
            "  Downloading nvidia_ml_py-12.570.86-py3-none-any.whl.metadata (8.7 kB)\n",
            "INFO: pip is looking at multiple versions of vllm to determine which version is compatible with other requirements. This could take a while.\n",
            "\u001b[31mERROR: Ignored the following versions that require a different python version: 0.2.0 Requires-Python <3.13,>=3.9; 0.2.1 Requires-Python <3.13,>=3.9; 0.2.3 Requires-Python <3.13,>=3.9; 0.8.4 Requires-Python <3.13,>=3.9; 0.8.5 Requires-Python <3.13,>=3.9; 0.8.5.post1 Requires-Python <3.13,>=3.9; 1.21.2 Requires-Python >=3.7,<3.11; 1.21.3 Requires-Python >=3.7,<3.11; 1.21.4 Requires-Python >=3.7,<3.11; 1.21.5 Requires-Python >=3.7,<3.11; 1.21.6 Requires-Python >=3.7,<3.11; 1.26.0 Requires-Python <3.13,>=3.9; 1.26.1 Requires-Python <3.13,>=3.9\u001b[0m\u001b[31m\n",
            "\u001b[0m\u001b[31mERROR: Could not find a version that satisfies the requirement torch==2.4.0 (from vllm) (from versions: 2.5.0, 2.5.1, 2.6.0, 2.7.0)\u001b[0m\u001b[31m\n",
            "\u001b[0m\u001b[31mERROR: No matching distribution found for torch==2.4.0\u001b[0m\u001b[31m\n",
            "\u001b[0mCollecting ray\n",
            "  Using cached ray-2.45.0-cp313-cp313-manylinux2014_x86_64.whl.metadata (19 kB)\n",
            "Collecting click>=7.0 (from ray)\n",
            "  Downloading click-8.1.8-py3-none-any.whl.metadata (2.3 kB)\n",
            "Collecting filelock (from ray)\n",
            "  Using cached filelock-3.18.0-py3-none-any.whl.metadata (2.9 kB)\n",
            "Collecting jsonschema (from ray)\n",
            "  Downloading jsonschema-4.23.0-py3-none-any.whl.metadata (7.9 kB)\n",
            "Collecting msgpack<2.0.0,>=1.0.0 (from ray)\n",
            "  Downloading msgpack-1.1.0-cp313-cp313-manylinux_2_17_x86_64.manylinux2014_x86_64.whl.metadata (8.4 kB)\n",
            "Requirement already satisfied: packaging in /usr/local/lib/python3.13/site-packages (from ray) (24.2)\n",
            "Collecting protobuf!=3.19.5,>=3.15.3 (from ray)\n",
            "  Using cached protobuf-6.30.2-cp39-abi3-manylinux2014_x86_64.whl.metadata (593 bytes)\n",
            "Collecting pyyaml (from ray)\n",
            "  Using cached PyYAML-6.0.2-cp313-cp313-manylinux_2_17_x86_64.manylinux2014_x86_64.whl.metadata (2.1 kB)\n",
            "Requirement already satisfied: requests in /usr/local/lib/python3.13/site-packages (from ray) (2.32.3)\n",
            "Collecting attrs>=22.2.0 (from jsonschema->ray)\n",
            "  Downloading attrs-25.3.0-py3-none-any.whl.metadata (10 kB)\n",
            "Collecting jsonschema-specifications>=2023.03.6 (from jsonschema->ray)\n",
            "  Downloading jsonschema_specifications-2025.4.1-py3-none-any.whl.metadata (2.9 kB)\n",
            "Collecting referencing>=0.28.4 (from jsonschema->ray)\n",
            "  Downloading referencing-0.36.2-py3-none-any.whl.metadata (2.8 kB)\n",
            "Collecting rpds-py>=0.7.1 (from jsonschema->ray)\n",
            "  Downloading rpds_py-0.24.0-cp313-cp313-manylinux_2_17_x86_64.manylinux2014_x86_64.whl.metadata (4.1 kB)\n",
            "Requirement already satisfied: charset-normalizer<4,>=2 in /usr/local/lib/python3.13/site-packages (from requests->ray) (3.3.2)\n",
            "Requirement already satisfied: idna<4,>=2.5 in /usr/local/lib/python3.13/site-packages (from requests->ray) (3.7)\n",
            "Requirement already satisfied: urllib3<3,>=1.21.1 in /usr/local/lib/python3.13/site-packages (from requests->ray) (2.3.0)\n",
            "Requirement already satisfied: certifi>=2017.4.17 in /usr/local/lib/python3.13/site-packages (from requests->ray) (2025.4.26)\n",
            "Downloading ray-2.45.0-cp313-cp313-manylinux2014_x86_64.whl (68.4 MB)\n",
            "\u001b[2K   \u001b[90m━━━━━━━━━━━━━━━━━━━━━━━━━━━━━━━━━━━━━━━━\u001b[0m \u001b[32m68.4/68.4 MB\u001b[0m \u001b[31m69.8 MB/s\u001b[0m eta \u001b[36m0:00:00\u001b[0m\n",
            "\u001b[?25hDownloading click-8.1.8-py3-none-any.whl (98 kB)\n",
            "Downloading msgpack-1.1.0-cp313-cp313-manylinux_2_17_x86_64.manylinux2014_x86_64.whl (399 kB)\n",
            "Downloading protobuf-6.30.2-cp39-abi3-manylinux2014_x86_64.whl (316 kB)\n",
            "Downloading filelock-3.18.0-py3-none-any.whl (16 kB)\n",
            "Downloading jsonschema-4.23.0-py3-none-any.whl (88 kB)\n",
            "Downloading PyYAML-6.0.2-cp313-cp313-manylinux_2_17_x86_64.manylinux2014_x86_64.whl (759 kB)\n",
            "\u001b[2K   \u001b[90m━━━━━━━━━━━━━━━━━━━━━━━━━━━━━━━━━━━━━━━━\u001b[0m \u001b[32m759.5/759.5 kB\u001b[0m \u001b[31m37.0 MB/s\u001b[0m eta \u001b[36m0:00:00\u001b[0m\n",
            "\u001b[?25hDownloading attrs-25.3.0-py3-none-any.whl (63 kB)\n",
            "Downloading jsonschema_specifications-2025.4.1-py3-none-any.whl (18 kB)\n",
            "Downloading referencing-0.36.2-py3-none-any.whl (26 kB)\n",
            "Downloading rpds_py-0.24.0-cp313-cp313-manylinux_2_17_x86_64.manylinux2014_x86_64.whl (393 kB)\n",
            "Installing collected packages: rpds-py, pyyaml, protobuf, msgpack, filelock, click, attrs, referencing, jsonschema-specifications, jsonschema, ray\n",
            "Successfully installed attrs-25.3.0 click-8.1.8 filelock-3.18.0 jsonschema-4.23.0 jsonschema-specifications-2025.4.1 msgpack-1.1.0 protobuf-6.30.2 pyyaml-6.0.2 ray-2.45.0 referencing-0.36.2 rpds-py-0.24.0\n",
            "Obtaining file:///content/TinyZero\n",
            "  Installing build dependencies ... \u001b[?25l\u001b[?25hdone\n",
            "  Checking if build backend supports build_editable ... \u001b[?25l\u001b[?25hdone\n",
            "  Getting requirements to build editable ... \u001b[?25l\u001b[?25hdone\n",
            "  Preparing editable metadata (pyproject.toml) ... \u001b[?25l\u001b[?25hdone\n",
            "Collecting accelerate (from verl==0.1)\n",
            "  Downloading accelerate-1.6.0-py3-none-any.whl.metadata (19 kB)\n",
            "Collecting codetiming (from verl==0.1)\n",
            "  Downloading codetiming-1.4.0-py3-none-any.whl.metadata (7.7 kB)\n",
            "Collecting datasets (from verl==0.1)\n",
            "  Downloading datasets-3.5.1-py3-none-any.whl.metadata (19 kB)\n",
            "Collecting dill (from verl==0.1)\n",
            "  Downloading dill-0.4.0-py3-none-any.whl.metadata (10 kB)\n",
            "Collecting hydra-core (from verl==0.1)\n",
            "  Downloading hydra_core-1.3.2-py3-none-any.whl.metadata (5.5 kB)\n",
            "Collecting numpy (from verl==0.1)\n",
            "  Downloading numpy-2.2.5-cp313-cp313-manylinux_2_17_x86_64.manylinux2014_x86_64.whl.metadata (62 kB)\n",
            "Collecting pybind11 (from verl==0.1)\n",
            "  Downloading pybind11-2.13.6-py3-none-any.whl.metadata (9.5 kB)\n",
            "Requirement already satisfied: ray in /usr/local/lib/python3.13/site-packages (from verl==0.1) (2.45.0)\n",
            "Collecting tensordict (from verl==0.1)\n",
            "  Downloading tensordict-0.8.1-cp313-cp313-manylinux_2_28_x86_64.whl.metadata (9.2 kB)\n",
            "Collecting transformers<4.48 (from verl==0.1)\n",
            "  Downloading transformers-4.47.1-py3-none-any.whl.metadata (44 kB)\n",
            "Collecting vllm<=0.6.3 (from verl==0.1)\n",
            "  Using cached vllm-0.6.3-cp38-abi3-manylinux1_x86_64.whl.metadata (10 kB)\n",
            "Requirement already satisfied: filelock in /usr/local/lib/python3.13/site-packages (from transformers<4.48->verl==0.1) (3.18.0)\n",
            "Collecting huggingface-hub<1.0,>=0.24.0 (from transformers<4.48->verl==0.1)\n",
            "  Downloading huggingface_hub-0.30.2-py3-none-any.whl.metadata (13 kB)\n",
            "Requirement already satisfied: packaging>=20.0 in /usr/local/lib/python3.13/site-packages (from transformers<4.48->verl==0.1) (24.2)\n",
            "Requirement already satisfied: pyyaml>=5.1 in /usr/local/lib/python3.13/site-packages (from transformers<4.48->verl==0.1) (6.0.2)\n",
            "Collecting regex!=2019.12.17 (from transformers<4.48->verl==0.1)\n",
            "  Downloading regex-2024.11.6-cp313-cp313-manylinux_2_17_x86_64.manylinux2014_x86_64.whl.metadata (40 kB)\n",
            "Requirement already satisfied: requests in /usr/local/lib/python3.13/site-packages (from transformers<4.48->verl==0.1) (2.32.3)\n",
            "Collecting tokenizers<0.22,>=0.21 (from transformers<4.48->verl==0.1)\n",
            "  Using cached tokenizers-0.21.1-cp39-abi3-manylinux_2_17_x86_64.manylinux2014_x86_64.whl.metadata (6.8 kB)\n",
            "Collecting safetensors>=0.4.1 (from transformers<4.48->verl==0.1)\n",
            "  Downloading safetensors-0.5.3-cp38-abi3-manylinux_2_17_x86_64.manylinux2014_x86_64.whl.metadata (3.8 kB)\n",
            "Requirement already satisfied: tqdm>=4.27 in /usr/local/lib/python3.13/site-packages (from transformers<4.48->verl==0.1) (4.67.1)\n",
            "Collecting psutil (from vllm<=0.6.3->verl==0.1)\n",
            "  Using cached psutil-7.0.0-cp36-abi3-manylinux_2_12_x86_64.manylinux2010_x86_64.manylinux_2_17_x86_64.manylinux2014_x86_64.whl.metadata (22 kB)\n",
            "Collecting sentencepiece (from vllm<=0.6.3->verl==0.1)\n",
            "  Using cached sentencepiece-0.2.0.tar.gz (2.6 MB)\n",
            "  Preparing metadata (setup.py) ... \u001b[?25l\u001b[?25hdone\n",
            "Collecting numpy (from verl==0.1)\n",
            "  Using cached numpy-1.26.4.tar.gz (15.8 MB)\n",
            "  Installing build dependencies ... \u001b[?25l\u001b[?25hdone\n",
            "  Getting requirements to build wheel ... \u001b[?25l\u001b[?25hdone\n",
            "  Installing backend dependencies ... \u001b[?25l\u001b[?25hdone\n",
            "  Preparing metadata (pyproject.toml) ... \u001b[?25l\u001b[?25hdone\n",
            "Collecting py-cpuinfo (from vllm<=0.6.3->verl==0.1)\n",
            "  Using cached py_cpuinfo-9.0.0-py3-none-any.whl.metadata (794 bytes)\n",
            "Requirement already satisfied: protobuf in /usr/local/lib/python3.13/site-packages (from vllm<=0.6.3->verl==0.1) (6.30.2)\n",
            "Collecting aiohttp (from vllm<=0.6.3->verl==0.1)\n",
            "  Using cached aiohttp-3.11.18-cp313-cp313-manylinux_2_17_x86_64.manylinux2014_x86_64.whl.metadata (7.7 kB)\n",
            "Collecting openai>=1.40.0 (from vllm<=0.6.3->verl==0.1)\n",
            "  Using cached openai-1.77.0-py3-none-any.whl.metadata (25 kB)\n",
            "Collecting uvicorn[standard] (from vllm<=0.6.3->verl==0.1)\n",
            "  Using cached uvicorn-0.34.2-py3-none-any.whl.metadata (6.5 kB)\n",
            "Requirement already satisfied: pydantic>=2.9 in /usr/local/lib/python3.13/site-packages (from vllm<=0.6.3->verl==0.1) (2.10.3)\n",
            "Collecting pillow (from vllm<=0.6.3->verl==0.1)\n",
            "  Using cached pillow-11.2.1-cp313-cp313-manylinux_2_28_x86_64.whl.metadata (8.9 kB)\n",
            "Collecting prometheus-client>=0.18.0 (from vllm<=0.6.3->verl==0.1)\n",
            "  Using cached prometheus_client-0.21.1-py3-none-any.whl.metadata (1.8 kB)\n",
            "Collecting prometheus-fastapi-instrumentator>=7.0.0 (from vllm<=0.6.3->verl==0.1)\n",
            "  Using cached prometheus_fastapi_instrumentator-7.1.0-py3-none-any.whl.metadata (13 kB)\n",
            "Collecting tiktoken>=0.6.0 (from vllm<=0.6.3->verl==0.1)\n",
            "  Using cached tiktoken-0.9.0-cp313-cp313-manylinux_2_17_x86_64.manylinux2014_x86_64.whl.metadata (6.7 kB)\n",
            "Collecting lm-format-enforcer==0.10.6 (from vllm<=0.6.3->verl==0.1)\n",
            "  Using cached lm_format_enforcer-0.10.6-py3-none-any.whl.metadata (16 kB)\n",
            "Collecting outlines<0.1,>=0.0.43 (from vllm<=0.6.3->verl==0.1)\n",
            "  Using cached outlines-0.0.46-py3-none-any.whl.metadata (15 kB)\n",
            "Requirement already satisfied: typing-extensions>=4.10 in /usr/local/lib/python3.13/site-packages (from vllm<=0.6.3->verl==0.1) (4.12.2)\n",
            "Collecting partial-json-parser (from vllm<=0.6.3->verl==0.1)\n",
            "  Using cached partial_json_parser-0.2.1.1.post5-py3-none-any.whl.metadata (6.1 kB)\n",
            "Collecting pyzmq (from vllm<=0.6.3->verl==0.1)\n",
            "  Using cached pyzmq-26.4.0-cp313-cp313-manylinux_2_28_x86_64.whl.metadata (6.0 kB)\n",
            "Collecting msgspec (from vllm<=0.6.3->verl==0.1)\n",
            "  Using cached msgspec-0.19.0-cp313-cp313-manylinux_2_17_x86_64.manylinux2014_x86_64.whl.metadata (6.9 kB)\n",
            "Collecting gguf==0.10.0 (from vllm<=0.6.3->verl==0.1)\n",
            "  Using cached gguf-0.10.0-py3-none-any.whl.metadata (3.5 kB)\n",
            "Collecting importlib-metadata (from vllm<=0.6.3->verl==0.1)\n",
            "  Using cached importlib_metadata-8.7.0-py3-none-any.whl.metadata (4.8 kB)\n",
            "Collecting mistral-common>=1.4.4 (from mistral-common[opencv]>=1.4.4->vllm<=0.6.3->verl==0.1)\n",
            "  Using cached mistral_common-1.5.4-py3-none-any.whl.metadata (4.5 kB)\n",
            "Collecting einops (from vllm<=0.6.3->verl==0.1)\n",
            "  Using cached einops-0.8.1-py3-none-any.whl.metadata (13 kB)\n",
            "Collecting nvidia-ml-py (from vllm<=0.6.3->verl==0.1)\n",
            "  Using cached nvidia_ml_py-12.570.86-py3-none-any.whl.metadata (8.7 kB)\n",
            "INFO: pip is looking at multiple versions of vllm to determine which version is compatible with other requirements. This could take a while.\n",
            "Collecting vllm<=0.6.3 (from verl==0.1)\n",
            "  Downloading vllm-0.6.2-cp38-abi3-manylinux1_x86_64.whl.metadata (2.4 kB)\n",
            "  Downloading vllm-0.6.1.post2-cp38-abi3-manylinux1_x86_64.whl.metadata (2.4 kB)\n",
            "Collecting gguf==0.9.1 (from vllm<=0.6.3->verl==0.1)\n",
            "  Downloading gguf-0.9.1-py3-none-any.whl.metadata (3.3 kB)\n",
            "Collecting vllm<=0.6.3 (from verl==0.1)\n",
            "  Downloading vllm-0.6.1.post1-cp38-abi3-manylinux1_x86_64.whl.metadata (2.3 kB)\n",
            "Collecting fastapi>=0.114.1 (from vllm<=0.6.3->verl==0.1)\n",
            "  Downloading fastapi-0.115.12-py3-none-any.whl.metadata (27 kB)\n",
            "Collecting vllm<=0.6.3 (from verl==0.1)\n",
            "  Downloading vllm-0.6.1-cp38-abi3-manylinux1_x86_64.whl.metadata (2.3 kB)\n",
            "  Downloading vllm-0.6.0-cp38-abi3-manylinux1_x86_64.whl.metadata (2.2 kB)\n",
            "  Downloading vllm-0.5.5-cp38-abi3-manylinux1_x86_64.whl.metadata (2.0 kB)\n",
            "Collecting librosa (from vllm<=0.6.3->verl==0.1)\n",
            "  Downloading librosa-0.11.0-py3-none-any.whl.metadata (8.7 kB)\n",
            "Collecting soundfile (from vllm<=0.6.3->verl==0.1)\n",
            "  Downloading soundfile-0.13.1-py2.py3-none-manylinux_2_28_x86_64.whl.metadata (16 kB)\n",
            "Collecting vllm<=0.6.3 (from verl==0.1)\n",
            "  Downloading vllm-0.5.4-cp38-abi3-manylinux1_x86_64.whl.metadata (1.8 kB)\n",
            "Collecting cmake>=3.21 (from vllm<=0.6.3->verl==0.1)\n",
            "  Downloading cmake-4.0.0-py3-none-manylinux_2_17_x86_64.manylinux2014_x86_64.whl.metadata (6.3 kB)\n",
            "Collecting ninja (from vllm<=0.6.3->verl==0.1)\n",
            "  Using cached ninja-1.11.1.4-py3-none-manylinux_2_12_x86_64.manylinux2010_x86_64.whl.metadata (5.0 kB)\n",
            "Collecting lm-format-enforcer==0.10.3 (from vllm<=0.6.3->verl==0.1)\n",
            "  Downloading lm_format_enforcer-0.10.3-py3-none-any.whl.metadata (16 kB)\n",
            "INFO: pip is still looking at multiple versions of vllm to determine which version is compatible with other requirements. This could take a while.\n",
            "Collecting vllm<=0.6.3 (from verl==0.1)\n",
            "  Downloading vllm-0.5.3.post1-cp38-abi3-manylinux1_x86_64.whl.metadata (1.8 kB)\n",
            "  Downloading vllm-0.5.3-cp38-abi3-manylinux1_x86_64.whl.metadata (1.8 kB)\n",
            "  Downloading vllm-0.5.2-cp38-abi3-manylinux1_x86_64.whl.metadata (1.8 kB)\n",
            "  Downloading vllm-0.5.1.tar.gz (790 kB)\n",
            "\u001b[2K     \u001b[90m━━━━━━━━━━━━━━━━━━━━━━━━━━━━━━━━━━━━━━\u001b[0m \u001b[32m790.6/790.6 kB\u001b[0m \u001b[31m23.9 MB/s\u001b[0m eta \u001b[36m0:00:00\u001b[0m\n",
            "\u001b[?25h  \u001b[1;31merror\u001b[0m: \u001b[1msubprocess-exited-with-error\u001b[0m\n",
            "  \n",
            "  \u001b[31m×\u001b[0m \u001b[32mpip subprocess to install build dependencies\u001b[0m did not run successfully.\n",
            "  \u001b[31m│\u001b[0m exit code: \u001b[1;36m1\u001b[0m\n",
            "  \u001b[31m╰─>\u001b[0m See above for output.\n",
            "  \n",
            "  \u001b[1;35mnote\u001b[0m: This error originates from a subprocess, and is likely not a problem with pip.\n",
            "  Installing build dependencies ... \u001b[?25l\u001b[?25herror\n",
            "\u001b[1;31merror\u001b[0m: \u001b[1msubprocess-exited-with-error\u001b[0m\n",
            "\n",
            "\u001b[31m×\u001b[0m \u001b[32mpip subprocess to install build dependencies\u001b[0m did not run successfully.\n",
            "\u001b[31m│\u001b[0m exit code: \u001b[1;36m1\u001b[0m\n",
            "\u001b[31m╰─>\u001b[0m See above for output.\n",
            "\n",
            "\u001b[1;35mnote\u001b[0m: This error originates from a subprocess, and is likely not a problem with pip.\n",
            "\n",
            "Usage:   \n",
            "  pip3 install [options] <requirement specifier> [package-index-options] ...\n",
            "  pip3 install [options] -r <requirements file> [package-index-options] ...\n",
            "  pip3 install [options] [-e] <vcs project url> ...\n",
            "  pip3 install [options] [-e] <local project path> ...\n",
            "  pip3 install [options] <archive url/path> ...\n",
            "\n",
            "no such option: --no-build-isolationy\n",
            "Collecting wandb\n",
            "  Downloading wandb-0.19.10-py3-none-manylinux_2_17_x86_64.manylinux2014_x86_64.whl.metadata (10 kB)\n",
            "Collecting IPython\n",
            "  Downloading ipython-9.2.0-py3-none-any.whl.metadata (4.4 kB)\n",
            "Collecting matplotlib\n",
            "  Downloading matplotlib-3.10.1-cp313-cp313-manylinux_2_17_x86_64.manylinux2014_x86_64.whl.metadata (11 kB)\n",
            "Requirement already satisfied: click!=8.0.0,>=7.1 in /usr/local/lib/python3.13/site-packages (from wandb) (8.1.8)\n",
            "Collecting docker-pycreds>=0.4.0 (from wandb)\n",
            "  Downloading docker_pycreds-0.4.0-py2.py3-none-any.whl.metadata (1.8 kB)\n",
            "Collecting gitpython!=3.1.29,>=1.0.0 (from wandb)\n",
            "  Downloading GitPython-3.1.44-py3-none-any.whl.metadata (13 kB)\n",
            "Requirement already satisfied: platformdirs in /usr/local/lib/python3.13/site-packages (from wandb) (4.3.7)\n",
            "Requirement already satisfied: protobuf!=4.21.0,!=5.28.0,<7,>=3.19.0 in /usr/local/lib/python3.13/site-packages (from wandb) (6.30.2)\n",
            "Collecting psutil>=5.0.0 (from wandb)\n",
            "  Using cached psutil-7.0.0-cp36-abi3-manylinux_2_12_x86_64.manylinux2010_x86_64.manylinux_2_17_x86_64.manylinux2014_x86_64.whl.metadata (22 kB)\n",
            "Requirement already satisfied: pydantic<3 in /usr/local/lib/python3.13/site-packages (from wandb) (2.10.3)\n",
            "Requirement already satisfied: pyyaml in /usr/local/lib/python3.13/site-packages (from wandb) (6.0.2)\n",
            "Requirement already satisfied: requests<3,>=2.0.0 in /usr/local/lib/python3.13/site-packages (from wandb) (2.32.3)\n",
            "Collecting sentry-sdk>=2.0.0 (from wandb)\n",
            "  Downloading sentry_sdk-2.27.0-py2.py3-none-any.whl.metadata (10 kB)\n",
            "Collecting setproctitle (from wandb)\n",
            "  Downloading setproctitle-1.3.6-cp313-cp313-manylinux_2_5_x86_64.manylinux1_x86_64.manylinux_2_17_x86_64.manylinux2014_x86_64.whl.metadata (10 kB)\n",
            "Requirement already satisfied: setuptools in /usr/local/lib/python3.13/site-packages (from wandb) (78.1.1)\n",
            "Requirement already satisfied: typing-extensions<5,>=4.4 in /usr/local/lib/python3.13/site-packages (from wandb) (4.12.2)\n",
            "Collecting decorator (from IPython)\n",
            "  Downloading decorator-5.2.1-py3-none-any.whl.metadata (3.9 kB)\n",
            "Collecting ipython-pygments-lexers (from IPython)\n",
            "  Downloading ipython_pygments_lexers-1.1.1-py3-none-any.whl.metadata (1.1 kB)\n",
            "Collecting jedi>=0.16 (from IPython)\n",
            "  Downloading jedi-0.19.2-py2.py3-none-any.whl.metadata (22 kB)\n",
            "Collecting matplotlib-inline (from IPython)\n",
            "  Downloading matplotlib_inline-0.1.7-py3-none-any.whl.metadata (3.9 kB)\n",
            "Collecting pexpect>4.3 (from IPython)\n",
            "  Downloading pexpect-4.9.0-py2.py3-none-any.whl.metadata (2.5 kB)\n",
            "Collecting prompt_toolkit<3.1.0,>=3.0.41 (from IPython)\n",
            "  Downloading prompt_toolkit-3.0.51-py3-none-any.whl.metadata (6.4 kB)\n",
            "Requirement already satisfied: pygments>=2.4.0 in /usr/local/lib/python3.13/site-packages (from IPython) (2.19.1)\n",
            "Collecting stack_data (from IPython)\n",
            "  Downloading stack_data-0.6.3-py3-none-any.whl.metadata (18 kB)\n",
            "Collecting traitlets>=5.13.0 (from IPython)\n",
            "  Downloading traitlets-5.14.3-py3-none-any.whl.metadata (10 kB)\n",
            "Collecting contourpy>=1.0.1 (from matplotlib)\n",
            "  Downloading contourpy-1.3.2-cp313-cp313-manylinux_2_17_x86_64.manylinux2014_x86_64.whl.metadata (5.5 kB)\n",
            "Collecting cycler>=0.10 (from matplotlib)\n",
            "  Downloading cycler-0.12.1-py3-none-any.whl.metadata (3.8 kB)\n",
            "Collecting fonttools>=4.22.0 (from matplotlib)\n",
            "  Downloading fonttools-4.57.0-cp313-cp313-manylinux_2_5_x86_64.manylinux1_x86_64.manylinux_2_17_x86_64.manylinux2014_x86_64.whl.metadata (102 kB)\n",
            "Collecting kiwisolver>=1.3.1 (from matplotlib)\n",
            "  Downloading kiwisolver-1.4.8-cp313-cp313-manylinux_2_17_x86_64.manylinux2014_x86_64.whl.metadata (6.2 kB)\n",
            "Collecting numpy>=1.23 (from matplotlib)\n",
            "  Using cached numpy-2.2.5-cp313-cp313-manylinux_2_17_x86_64.manylinux2014_x86_64.whl.metadata (62 kB)\n",
            "Requirement already satisfied: packaging>=20.0 in /usr/local/lib/python3.13/site-packages (from matplotlib) (24.2)\n",
            "Collecting pillow>=8 (from matplotlib)\n",
            "  Using cached pillow-11.2.1-cp313-cp313-manylinux_2_28_x86_64.whl.metadata (8.9 kB)\n",
            "Collecting pyparsing>=2.3.1 (from matplotlib)\n",
            "  Downloading pyparsing-3.2.3-py3-none-any.whl.metadata (5.0 kB)\n",
            "Collecting python-dateutil>=2.7 (from matplotlib)\n",
            "  Downloading python_dateutil-2.9.0.post0-py2.py3-none-any.whl.metadata (8.4 kB)\n",
            "Collecting six>=1.4.0 (from docker-pycreds>=0.4.0->wandb)\n",
            "  Downloading six-1.17.0-py2.py3-none-any.whl.metadata (1.7 kB)\n",
            "Collecting gitdb<5,>=4.0.1 (from gitpython!=3.1.29,>=1.0.0->wandb)\n",
            "  Downloading gitdb-4.0.12-py3-none-any.whl.metadata (1.2 kB)\n",
            "Collecting parso<0.9.0,>=0.8.4 (from jedi>=0.16->IPython)\n",
            "  Downloading parso-0.8.4-py2.py3-none-any.whl.metadata (7.7 kB)\n",
            "Collecting ptyprocess>=0.5 (from pexpect>4.3->IPython)\n",
            "  Downloading ptyprocess-0.7.0-py2.py3-none-any.whl.metadata (1.3 kB)\n",
            "Collecting wcwidth (from prompt_toolkit<3.1.0,>=3.0.41->IPython)\n",
            "  Downloading wcwidth-0.2.13-py2.py3-none-any.whl.metadata (14 kB)\n",
            "Requirement already satisfied: annotated-types>=0.6.0 in /usr/local/lib/python3.13/site-packages (from pydantic<3->wandb) (0.6.0)\n",
            "Requirement already satisfied: pydantic-core==2.27.1 in /usr/local/lib/python3.13/site-packages (from pydantic<3->wandb) (2.27.1)\n",
            "Requirement already satisfied: charset-normalizer<4,>=2 in /usr/local/lib/python3.13/site-packages (from requests<3,>=2.0.0->wandb) (3.3.2)\n",
            "Requirement already satisfied: idna<4,>=2.5 in /usr/local/lib/python3.13/site-packages (from requests<3,>=2.0.0->wandb) (3.7)\n",
            "Requirement already satisfied: urllib3<3,>=1.21.1 in /usr/local/lib/python3.13/site-packages (from requests<3,>=2.0.0->wandb) (2.3.0)\n",
            "Requirement already satisfied: certifi>=2017.4.17 in /usr/local/lib/python3.13/site-packages (from requests<3,>=2.0.0->wandb) (2025.4.26)\n",
            "Collecting executing>=1.2.0 (from stack_data->IPython)\n",
            "  Downloading executing-2.2.0-py2.py3-none-any.whl.metadata (8.9 kB)\n",
            "Collecting asttokens>=2.1.0 (from stack_data->IPython)\n",
            "  Downloading asttokens-3.0.0-py3-none-any.whl.metadata (4.7 kB)\n",
            "Collecting pure-eval (from stack_data->IPython)\n",
            "  Downloading pure_eval-0.2.3-py3-none-any.whl.metadata (6.3 kB)\n",
            "Collecting smmap<6,>=3.0.1 (from gitdb<5,>=4.0.1->gitpython!=3.1.29,>=1.0.0->wandb)\n",
            "  Downloading smmap-5.0.2-py3-none-any.whl.metadata (4.3 kB)\n",
            "Downloading wandb-0.19.10-py3-none-manylinux_2_17_x86_64.manylinux2014_x86_64.whl (21.3 MB)\n",
            "\u001b[2K   \u001b[90m━━━━━━━━━━━━━━━━━━━━━━━━━━━━━━━━━━━━━━━━\u001b[0m \u001b[32m21.3/21.3 MB\u001b[0m \u001b[31m176.0 MB/s\u001b[0m eta \u001b[36m0:00:00\u001b[0m\n",
            "\u001b[?25hDownloading ipython-9.2.0-py3-none-any.whl (604 kB)\n",
            "\u001b[2K   \u001b[90m━━━━━━━━━━━━━━━━━━━━━━━━━━━━━━━━━━━━━━━━\u001b[0m \u001b[32m604.3/604.3 kB\u001b[0m \u001b[31m31.9 MB/s\u001b[0m eta \u001b[36m0:00:00\u001b[0m\n",
            "\u001b[?25hDownloading matplotlib-3.10.1-cp313-cp313-manylinux_2_17_x86_64.manylinux2014_x86_64.whl (8.6 MB)\n",
            "\u001b[2K   \u001b[90m━━━━━━━━━━━━━━━━━━━━━━━━━━━━━━━━━━━━━━━━\u001b[0m \u001b[32m8.6/8.6 MB\u001b[0m \u001b[31m153.7 MB/s\u001b[0m eta \u001b[36m0:00:00\u001b[0m\n",
            "\u001b[?25hDownloading contourpy-1.3.2-cp313-cp313-manylinux_2_17_x86_64.manylinux2014_x86_64.whl (322 kB)\n",
            "Downloading cycler-0.12.1-py3-none-any.whl (8.3 kB)\n",
            "Downloading docker_pycreds-0.4.0-py2.py3-none-any.whl (9.0 kB)\n",
            "Downloading fonttools-4.57.0-cp313-cp313-manylinux_2_5_x86_64.manylinux1_x86_64.manylinux_2_17_x86_64.manylinux2014_x86_64.whl (4.8 MB)\n",
            "\u001b[2K   \u001b[90m━━━━━━━━━━━━━━━━━━━━━━━━━━━━━━━━━━━━━━━━\u001b[0m \u001b[32m4.8/4.8 MB\u001b[0m \u001b[31m151.0 MB/s\u001b[0m eta \u001b[36m0:00:00\u001b[0m\n",
            "\u001b[?25hDownloading GitPython-3.1.44-py3-none-any.whl (207 kB)\n",
            "Downloading jedi-0.19.2-py2.py3-none-any.whl (1.6 MB)\n",
            "\u001b[2K   \u001b[90m━━━━━━━━━━━━━━━━━━━━━━━━━━━━━━━━━━━━━━━━\u001b[0m \u001b[32m1.6/1.6 MB\u001b[0m \u001b[31m50.6 MB/s\u001b[0m eta \u001b[36m0:00:00\u001b[0m\n",
            "\u001b[?25hDownloading kiwisolver-1.4.8-cp313-cp313-manylinux_2_17_x86_64.manylinux2014_x86_64.whl (1.5 MB)\n",
            "\u001b[2K   \u001b[90m━━━━━━━━━━━━━━━━━━━━━━━━━━━━━━━━━━━━━━━━\u001b[0m \u001b[32m1.5/1.5 MB\u001b[0m \u001b[31m78.3 MB/s\u001b[0m eta \u001b[36m0:00:00\u001b[0m\n",
            "\u001b[?25hDownloading numpy-2.2.5-cp313-cp313-manylinux_2_17_x86_64.manylinux2014_x86_64.whl (16.1 MB)\n",
            "\u001b[2K   \u001b[90m━━━━━━━━━━━━━━━━━━━━━━━━━━━━━━━━━━━━━━━━\u001b[0m \u001b[32m16.1/16.1 MB\u001b[0m \u001b[31m167.2 MB/s\u001b[0m eta \u001b[36m0:00:00\u001b[0m\n",
            "\u001b[?25hDownloading pexpect-4.9.0-py2.py3-none-any.whl (63 kB)\n",
            "Downloading pillow-11.2.1-cp313-cp313-manylinux_2_28_x86_64.whl (4.6 MB)\n",
            "\u001b[2K   \u001b[90m━━━━━━━━━━━━━━━━━━━━━━━━━━━━━━━━━━━━━━━━\u001b[0m \u001b[32m4.6/4.6 MB\u001b[0m \u001b[31m151.2 MB/s\u001b[0m eta \u001b[36m0:00:00\u001b[0m\n",
            "\u001b[?25hDownloading prompt_toolkit-3.0.51-py3-none-any.whl (387 kB)\n",
            "Downloading psutil-7.0.0-cp36-abi3-manylinux_2_12_x86_64.manylinux2010_x86_64.manylinux_2_17_x86_64.manylinux2014_x86_64.whl (277 kB)\n",
            "Downloading pyparsing-3.2.3-py3-none-any.whl (111 kB)\n",
            "Downloading python_dateutil-2.9.0.post0-py2.py3-none-any.whl (229 kB)\n",
            "Downloading sentry_sdk-2.27.0-py2.py3-none-any.whl (340 kB)\n",
            "Downloading traitlets-5.14.3-py3-none-any.whl (85 kB)\n",
            "Downloading decorator-5.2.1-py3-none-any.whl (9.2 kB)\n",
            "Downloading ipython_pygments_lexers-1.1.1-py3-none-any.whl (8.1 kB)\n",
            "Downloading matplotlib_inline-0.1.7-py3-none-any.whl (9.9 kB)\n",
            "Downloading setproctitle-1.3.6-cp313-cp313-manylinux_2_5_x86_64.manylinux1_x86_64.manylinux_2_17_x86_64.manylinux2014_x86_64.whl (31 kB)\n",
            "Downloading stack_data-0.6.3-py3-none-any.whl (24 kB)\n",
            "Downloading asttokens-3.0.0-py3-none-any.whl (26 kB)\n",
            "Downloading executing-2.2.0-py2.py3-none-any.whl (26 kB)\n",
            "Downloading gitdb-4.0.12-py3-none-any.whl (62 kB)\n",
            "Downloading parso-0.8.4-py2.py3-none-any.whl (103 kB)\n",
            "Downloading ptyprocess-0.7.0-py2.py3-none-any.whl (13 kB)\n",
            "Downloading six-1.17.0-py2.py3-none-any.whl (11 kB)\n",
            "Downloading pure_eval-0.2.3-py3-none-any.whl (11 kB)\n",
            "Downloading wcwidth-0.2.13-py2.py3-none-any.whl (34 kB)\n",
            "Downloading smmap-5.0.2-py3-none-any.whl (24 kB)\n",
            "Installing collected packages: wcwidth, pure-eval, ptyprocess, traitlets, smmap, six, setproctitle, sentry-sdk, pyparsing, psutil, prompt_toolkit, pillow, pexpect, parso, numpy, kiwisolver, ipython-pygments-lexers, fonttools, executing, decorator, cycler, asttokens, stack_data, python-dateutil, matplotlib-inline, jedi, gitdb, docker-pycreds, contourpy, matplotlib, IPython, gitpython, wandb\n",
            "Successfully installed IPython-9.2.0 asttokens-3.0.0 contourpy-1.3.2 cycler-0.12.1 decorator-5.2.1 docker-pycreds-0.4.0 executing-2.2.0 fonttools-4.57.0 gitdb-4.0.12 gitpython-3.1.44 ipython-pygments-lexers-1.1.1 jedi-0.19.2 kiwisolver-1.4.8 matplotlib-3.10.1 matplotlib-inline-0.1.7 numpy-2.2.5 parso-0.8.4 pexpect-4.9.0 pillow-11.2.1 prompt_toolkit-3.0.51 psutil-7.0.0 ptyprocess-0.7.0 pure-eval-0.2.3 pyparsing-3.2.3 python-dateutil-2.9.0.post0 sentry-sdk-2.27.0 setproctitle-1.3.6 six-1.17.0 smmap-5.0.2 stack_data-0.6.3 traitlets-5.14.3 wandb-0.19.10 wcwidth-0.2.13\n"
          ]
        },
        {
          "output_type": "display_data",
          "data": {
            "application/vnd.colab-display-data+json": {
              "pip_warning": {
                "packages": [
                  "PIL",
                  "cycler",
                  "dateutil",
                  "kiwisolver",
                  "matplotlib_inline",
                  "pexpect",
                  "prompt_toolkit",
                  "six",
                  "wcwidth"
                ]
              },
              "id": "6714dbb49c0542b09190ed13717122f1"
            }
          },
          "metadata": {}
        }
      ]
    },
    {
      "cell_type": "code",
      "source": [
        "%cd TinyZero/"
      ],
      "metadata": {
        "colab": {
          "base_uri": "https://localhost:8080/"
        },
        "id": "NltEXSOdXP3N",
        "outputId": "d70f17f8-4120-4bd8-c0b3-14ce6c4d6fb1"
      },
      "execution_count": 2,
      "outputs": [
        {
          "output_type": "stream",
          "name": "stdout",
          "text": [
            "/content/TinyZero\n"
          ]
        }
      ]
    },
    {
      "cell_type": "code",
      "source": [
        "pwd"
      ],
      "metadata": {
        "colab": {
          "base_uri": "https://localhost:8080/",
          "height": 35
        },
        "id": "xlsL01yjQ-B1",
        "outputId": "c2411305-eab8-4e75-c1fb-08656448c23a"
      },
      "execution_count": 3,
      "outputs": [
        {
          "output_type": "execute_result",
          "data": {
            "text/plain": [
              "'/content/TinyZero'"
            ],
            "application/vnd.google.colaboratory.intrinsic+json": {
              "type": "string"
            }
          },
          "metadata": {},
          "execution_count": 3
        }
      ]
    },
    {
      "cell_type": "code",
      "source": [
        "! nvidia-smi topo -m"
      ],
      "metadata": {
        "colab": {
          "base_uri": "https://localhost:8080/"
        },
        "id": "JpbDDwWCXYFt",
        "outputId": "f77c63a7-a10d-403e-8aec-27fbf8198d15"
      },
      "execution_count": 4,
      "outputs": [
        {
          "output_type": "stream",
          "name": "stdout",
          "text": [
            "\t\u001b[4mGPU0\tCPU Affinity\tNUMA Affinity\tGPU NUMA ID\u001b[0m\n",
            "GPU0\t X \t0-1\t0\t\tN/A\n",
            "\n",
            "Legend:\n",
            "\n",
            "  X    = Self\n",
            "  SYS  = Connection traversing PCIe as well as the SMP interconnect between NUMA nodes (e.g., QPI/UPI)\n",
            "  NODE = Connection traversing PCIe as well as the interconnect between PCIe Host Bridges within a NUMA node\n",
            "  PHB  = Connection traversing PCIe as well as a PCIe Host Bridge (typically the CPU)\n",
            "  PXB  = Connection traversing multiple PCIe bridges (without traversing the PCIe Host Bridge)\n",
            "  PIX  = Connection traversing at most a single PCIe bridge\n",
            "  NV#  = Connection traversing a bonded set of # NVLinks\n"
          ]
        }
      ]
    },
    {
      "cell_type": "code",
      "source": [
        "! nvidia-smi\n"
      ],
      "metadata": {
        "colab": {
          "base_uri": "https://localhost:8080/"
        },
        "id": "17J8CE7kQ-Al",
        "outputId": "a6970009-01a1-4f60-defb-7c6c1cfa8c8a"
      },
      "execution_count": 6,
      "outputs": [
        {
          "output_type": "stream",
          "name": "stdout",
          "text": [
            "Sun May  4 08:14:46 2025       \n",
            "+-----------------------------------------------------------------------------------------+\n",
            "| NVIDIA-SMI 550.54.15              Driver Version: 550.54.15      CUDA Version: 12.4     |\n",
            "|-----------------------------------------+------------------------+----------------------+\n",
            "| GPU  Name                 Persistence-M | Bus-Id          Disp.A | Volatile Uncorr. ECC |\n",
            "| Fan  Temp   Perf          Pwr:Usage/Cap |           Memory-Usage | GPU-Util  Compute M. |\n",
            "|                                         |                        |               MIG M. |\n",
            "|=========================================+========================+======================|\n",
            "|   0  Tesla T4                       Off |   00000000:00:04.0 Off |                    0 |\n",
            "| N/A   36C    P8              9W /   70W |       0MiB /  15360MiB |      0%      Default |\n",
            "|                                         |                        |                  N/A |\n",
            "+-----------------------------------------+------------------------+----------------------+\n",
            "                                                                                         \n",
            "+-----------------------------------------------------------------------------------------+\n",
            "| Processes:                                                                              |\n",
            "|  GPU   GI   CI        PID   Type   Process name                              GPU Memory |\n",
            "|        ID   ID                                                               Usage      |\n",
            "|=========================================================================================|\n",
            "|  No running processes found                                                             |\n",
            "+-----------------------------------------------------------------------------------------+\n",
            "\t\u001b[4mGPU0\tCPU Affinity\tNUMA Affinity\tGPU NUMA ID\u001b[0m\n",
            "GPU0\t X \t0-1\t0\t\tN/A\n",
            "\n",
            "Legend:\n",
            "\n",
            "  X    = Self\n",
            "  SYS  = Connection traversing PCIe as well as the SMP interconnect between NUMA nodes (e.g., QPI/UPI)\n",
            "  NODE = Connection traversing PCIe as well as the interconnect between PCIe Host Bridges within a NUMA node\n",
            "  PHB  = Connection traversing PCIe as well as a PCIe Host Bridge (typically the CPU)\n",
            "  PXB  = Connection traversing multiple PCIe bridges (without traversing the PCIe Host Bridge)\n",
            "  PIX  = Connection traversing at most a single PCIe bridge\n",
            "  NV#  = Connection traversing a bonded set of # NVLinks\n"
          ]
        }
      ]
    },
    {
      "cell_type": "code",
      "source": [
        "!DATA_DIR=\"./data/synthetic_rollouts\" && mkdir -p \"$DATA_DIR\""
      ],
      "metadata": {
        "id": "IgnVuc6PQ-DT"
      },
      "execution_count": 5,
      "outputs": []
    },
    {
      "cell_type": "code",
      "source": [
        "! curl -o https://tau-bench.s3.amazonaws.com/tau_bench_v1.0.tar.gz"
      ],
      "metadata": {
        "colab": {
          "base_uri": "https://localhost:8080/"
        },
        "id": "YEoMSKRPHDPR",
        "outputId": "73409d3a-aefe-4e35-f2a6-402107ac90f5"
      },
      "execution_count": 13,
      "outputs": [
        {
          "output_type": "stream",
          "name": "stdout",
          "text": [
            "curl: no URL specified!\n",
            "curl: try 'curl --help' or 'curl --manual' for more information\n"
          ]
        }
      ]
    },
    {
      "cell_type": "code",
      "source": [
        "!curl -L -o \"{DATA_DIR}/tau_bench_v1.0.tar.gz\" https://tau-bench.s3.amazonaws.com/tau_bench_v1.0.tar.gz"
      ],
      "metadata": {
        "colab": {
          "base_uri": "https://localhost:8080/"
        },
        "id": "VEpsPkf2OeNj",
        "outputId": "5c9448a7-4e77-442c-eefe-8d591b25a135"
      },
      "execution_count": 14,
      "outputs": [
        {
          "output_type": "stream",
          "name": "stdout",
          "text": [
            "  % Total    % Received % Xferd  Average Speed   Time    Time     Time  Current\n",
            "                                 Dload  Upload   Total   Spent    Left  Speed\n",
            "\r  0     0    0     0    0     0      0      0 --:--:-- --:--:-- --:--:--     0\r100   243    0   243    0     0   1699      0 --:--:-- --:--:-- --:--:--  1711\n"
          ]
        }
      ]
    },
    {
      "cell_type": "code",
      "source": [
        "!tar -xzvf /content/TinyZero/{DATA_DIR}/tau_bench_v1.0.tar.gz\n",
        "\n",
        "# Set the TAU_DATA environment variable (Note: This sets it for the current shell command only)\n",
        "# !export TAU_DATA=\"{DATA_DIR}/tau_bench_v1.0\""
      ],
      "metadata": {
        "colab": {
          "base_uri": "https://localhost:8080/"
        },
        "id": "KgW3MW5uOeOz",
        "outputId": "da5a048a-c756-4fed-dc3c-71406cedeb99"
      },
      "execution_count": 16,
      "outputs": [
        {
          "output_type": "stream",
          "name": "stdout",
          "text": [
            "\n",
            "gzip: stdin: not in gzip format\n",
            "tar: Child returned status 1\n",
            "tar: Error is not recoverable: exiting now\n"
          ]
        }
      ]
    },
    {
      "cell_type": "code",
      "source": [
        "!mkdir -p \"{DATA_DIR}\"\n",
        "\n",
        "# Download the tar.gz file into the specified directory\n",
        "!curl -o \"{DATA_DIR}/tau_bench_v1.0.tar.gz\" https://tau-bench.s3.amazonaws.com/tau_bench_v1.0.tar.gz\n",
        "\n",
        "# Extract the tar.gz file into the specified directory\n",
        "!tar -xzvf \"{DATA_DIR}/tau_bench_v1.0.tar.gz\" -C \"{DATA_DIR}\"\n",
        "\n",
        "# Set the TAU_DATA environment variable (Note: This sets it for the current shell command only)\n",
        "!export TAU_DATA=\"{DATA_DIR}/tau_bench_v1.0\""
      ],
      "metadata": {
        "colab": {
          "base_uri": "https://localhost:8080/"
        },
        "id": "X80aIIn3XqdB",
        "outputId": "bf325dec-5c20-43fc-f61e-245be15e53e5"
      },
      "execution_count": 7,
      "outputs": [
        {
          "output_type": "stream",
          "name": "stdout",
          "text": [
            "  % Total    % Received % Xferd  Average Speed   Time    Time     Time  Current\n",
            "                                 Dload  Upload   Total   Spent    Left  Speed\n",
            "\r  0     0    0     0    0     0      0      0 --:--:-- --:--:-- --:--:--     0\r100   243    0   243    0     0   1955      0 --:--:-- --:--:-- --:--:--  1959\n",
            "\n",
            "gzip: stdin: not in gzip format\n",
            "tar: Child returned status 1\n",
            "tar: Error is not recoverable: exiting now\n"
          ]
        }
      ]
    },
    {
      "cell_type": "code",
      "source": [
        "! curl -O https://tau-bench.s3.amazonaws.com/tau_bench_v1.0.tar.gz -P $DATA_DIR\n",
        "! tar -xzvf $DATA_DIR/tau_bench_v1.0.tar.gz -C $DATA_DIR\n",
        "! export TAU_DATA=\"$DATA_DIR/tau_bench_v1.0\""
      ],
      "metadata": {
        "colab": {
          "base_uri": "https://localhost:8080/"
        },
        "id": "QwkpJcTEHDQS",
        "outputId": "d61262c4-4642-4e93-cc0d-360bb1a6c32d"
      },
      "execution_count": 6,
      "outputs": [
        {
          "output_type": "stream",
          "name": "stdout",
          "text": [
            "curl: option -P: requires parameter\n",
            "curl: try 'curl --help' or 'curl --manual' for more information\n",
            "tar: option requires an argument -- 'C'\n",
            "Try 'tar --help' or 'tar --usage' for more information.\n"
          ]
        }
      ]
    },
    {
      "cell_type": "code",
      "source": [
        "! export N_GPUS=1\n",
        "! export BASE_MODEL={\"Qwen/Qwen2.5-3B\"}\n",
        "! export DATA_DIR=\"/content/TinyZero/data\"\n",
        "# export DATA_DIR=${DATA_DIR:-\"./data/synthetic_rollouts\"}\n",
        "! export ROLLOUT_TP_SIZE=2\n",
        "! export EXPERIMENT_NAME=countdown-qwen2.5-3b\n",
        "! export VLLM_ATTENTION_BACKEND=XFORMERS\n",
        "\n",
        "! bash /content/TinyZero/scripts/train_tiny_zero.sh"
      ],
      "metadata": {
        "colab": {
          "base_uri": "https://localhost:8080/"
        },
        "id": "BwROBalBHDRy",
        "outputId": "42a888db-9d68-4aff-f3c6-a8d8a7da8c5e"
      },
      "execution_count": 8,
      "outputs": [
        {
          "output_type": "stream",
          "name": "stdout",
          "text": [
            "Traceback (most recent call last):\n",
            "  File \"/usr/local/lib/python3.13/site-packages/tensordict/_contextlib.py\", line 23, in <module>\n",
            "    from torch.compiler import is_compiling\n",
            "ModuleNotFoundError: No module named 'torch.compiler'\n",
            "\n",
            "During handling of the above exception, another exception occurred:\n",
            "\n",
            "Traceback (most recent call last):\n",
            "  File \"<frozen runpy>\", line 189, in _run_module_as_main\n",
            "  File \"<frozen runpy>\", line 112, in _get_module_details\n",
            "  File \"/content/TinyZero/verl/__init__.py\", line 22, in <module>\n",
            "    from .protocol import DataProto\n",
            "  File \"/content/TinyZero/verl/protocol.py\", line 26, in <module>\n",
            "    import tensordict\n",
            "  File \"/usr/local/lib/python3.13/site-packages/tensordict/__init__.py\", line 6, in <module>\n",
            "    import tensordict._reductions\n",
            "  File \"/usr/local/lib/python3.13/site-packages/tensordict/_reductions.py\", line 11, in <module>\n",
            "    from tensordict._lazy import LazyStackedTensorDict\n",
            "  File \"/usr/local/lib/python3.13/site-packages/tensordict/_lazy.py\", line 34, in <module>\n",
            "    from tensordict._td import _SubTensorDict, _TensorDictKeysView, TensorDict\n",
            "  File \"/usr/local/lib/python3.13/site-packages/tensordict/_td.py\", line 25, in <module>\n",
            "    from tensordict.base import (\n",
            "    ...<16 lines>...\n",
            "    )\n",
            "  File \"/usr/local/lib/python3.13/site-packages/tensordict/base.py\", line 52, in <module>\n",
            "    from tensordict._contextlib import LAST_OP_MAPS\n",
            "  File \"/usr/local/lib/python3.13/site-packages/tensordict/_contextlib.py\", line 25, in <module>\n",
            "    from torch._dynamo import is_compiling\n",
            "ModuleNotFoundError: No module named 'torch._dynamo'\n"
          ]
        }
      ]
    },
    {
      "cell_type": "code",
      "source": [
        "%cd TinyZero"
      ],
      "metadata": {
        "colab": {
          "base_uri": "https://localhost:8080/"
        },
        "id": "q0NXlHP2aRpk",
        "outputId": "7f76c316-ec15-4dbe-8872-dd4a7ddc0df7"
      },
      "execution_count": 2,
      "outputs": [
        {
          "output_type": "stream",
          "name": "stdout",
          "text": [
            "/content/TinyZero\n"
          ]
        }
      ]
    },
    {
      "cell_type": "code",
      "source": [
        "?torch.compiler"
      ],
      "metadata": {
        "id": "3RW448wbavNe"
      },
      "execution_count": 7,
      "outputs": []
    },
    {
      "cell_type": "code",
      "source": [
        "import torch\n",
        "print(torch.__version__)"
      ],
      "metadata": {
        "colab": {
          "base_uri": "https://localhost:8080/"
        },
        "id": "8ZPAf820ampQ",
        "outputId": "f3651cb7-dbe8-4084-e2bd-8f6efbfa471a"
      },
      "execution_count": 4,
      "outputs": [
        {
          "output_type": "stream",
          "name": "stdout",
          "text": [
            "2.6.0+cu124\n"
          ]
        }
      ]
    },
    {
      "cell_type": "code",
      "source": [
        "! pip install tensordict"
      ],
      "metadata": {
        "colab": {
          "base_uri": "https://localhost:8080/",
          "height": 830
        },
        "id": "AaBP4f7XHDWK",
        "outputId": "ddac16fc-74db-4f56-b4b4-7d515b27a004"
      },
      "execution_count": 28,
      "outputs": [
        {
          "output_type": "stream",
          "name": "stdout",
          "text": [
            "Collecting tensordict\n",
            "  Using cached tensordict-0.8.1-cp313-cp313-manylinux_2_28_x86_64.whl.metadata (9.2 kB)\n",
            "Requirement already satisfied: torch in /usr/local/lib/python3.13/site-packages (from tensordict) (2.7.0)\n",
            "Requirement already satisfied: numpy in /usr/local/lib/python3.13/site-packages (from tensordict) (2.2.5)\n",
            "Collecting cloudpickle (from tensordict)\n",
            "  Downloading cloudpickle-3.1.1-py3-none-any.whl.metadata (7.1 kB)\n",
            "Requirement already satisfied: packaging in /usr/local/lib/python3.13/site-packages (from tensordict) (24.2)\n",
            "Collecting importlib_metadata (from tensordict)\n",
            "  Using cached importlib_metadata-8.7.0-py3-none-any.whl.metadata (4.8 kB)\n",
            "Collecting zipp>=3.20 (from importlib_metadata->tensordict)\n",
            "  Downloading zipp-3.21.0-py3-none-any.whl.metadata (3.7 kB)\n",
            "Requirement already satisfied: filelock in /usr/local/lib/python3.13/site-packages (from torch->tensordict) (3.18.0)\n",
            "Requirement already satisfied: typing-extensions>=4.10.0 in /usr/local/lib/python3.13/site-packages (from torch->tensordict) (4.12.2)\n",
            "Requirement already satisfied: setuptools in /usr/local/lib/python3.13/site-packages (from torch->tensordict) (78.1.1)\n",
            "Requirement already satisfied: sympy>=1.13.3 in /usr/local/lib/python3.13/site-packages (from torch->tensordict) (1.14.0)\n",
            "Requirement already satisfied: networkx in /usr/local/lib/python3.13/site-packages (from torch->tensordict) (3.4.2)\n",
            "Requirement already satisfied: jinja2 in /usr/local/lib/python3.13/site-packages (from torch->tensordict) (3.1.6)\n",
            "Requirement already satisfied: fsspec in /usr/local/lib/python3.13/site-packages (from torch->tensordict) (2025.3.2)\n",
            "Requirement already satisfied: nvidia-cuda-nvrtc-cu12==12.6.77 in /usr/local/lib/python3.13/site-packages (from torch->tensordict) (12.6.77)\n",
            "Requirement already satisfied: nvidia-cuda-runtime-cu12==12.6.77 in /usr/local/lib/python3.13/site-packages (from torch->tensordict) (12.6.77)\n",
            "Requirement already satisfied: nvidia-cuda-cupti-cu12==12.6.80 in /usr/local/lib/python3.13/site-packages (from torch->tensordict) (12.6.80)\n",
            "Requirement already satisfied: nvidia-cudnn-cu12==9.5.1.17 in /usr/local/lib/python3.13/site-packages (from torch->tensordict) (9.5.1.17)\n",
            "Requirement already satisfied: nvidia-cublas-cu12==12.6.4.1 in /usr/local/lib/python3.13/site-packages (from torch->tensordict) (12.6.4.1)\n",
            "Requirement already satisfied: nvidia-cufft-cu12==11.3.0.4 in /usr/local/lib/python3.13/site-packages (from torch->tensordict) (11.3.0.4)\n",
            "Requirement already satisfied: nvidia-curand-cu12==10.3.7.77 in /usr/local/lib/python3.13/site-packages (from torch->tensordict) (10.3.7.77)\n",
            "Requirement already satisfied: nvidia-cusolver-cu12==11.7.1.2 in /usr/local/lib/python3.13/site-packages (from torch->tensordict) (11.7.1.2)\n",
            "Requirement already satisfied: nvidia-cusparse-cu12==12.5.4.2 in /usr/local/lib/python3.13/site-packages (from torch->tensordict) (12.5.4.2)\n",
            "Requirement already satisfied: nvidia-cusparselt-cu12==0.6.3 in /usr/local/lib/python3.13/site-packages (from torch->tensordict) (0.6.3)\n",
            "Requirement already satisfied: nvidia-nccl-cu12==2.26.2 in /usr/local/lib/python3.13/site-packages (from torch->tensordict) (2.26.2)\n",
            "Requirement already satisfied: nvidia-nvtx-cu12==12.6.77 in /usr/local/lib/python3.13/site-packages (from torch->tensordict) (12.6.77)\n",
            "Requirement already satisfied: nvidia-nvjitlink-cu12==12.6.85 in /usr/local/lib/python3.13/site-packages (from torch->tensordict) (12.6.85)\n",
            "Requirement already satisfied: nvidia-cufile-cu12==1.11.1.6 in /usr/local/lib/python3.13/site-packages (from torch->tensordict) (1.11.1.6)\n",
            "Requirement already satisfied: triton==3.3.0 in /usr/local/lib/python3.13/site-packages (from torch->tensordict) (3.3.0)\n",
            "Requirement already satisfied: mpmath<1.4,>=1.1.0 in /usr/local/lib/python3.13/site-packages (from sympy>=1.13.3->torch->tensordict) (1.3.0)\n",
            "Requirement already satisfied: MarkupSafe>=2.0 in /usr/local/lib/python3.13/site-packages (from jinja2->torch->tensordict) (3.0.2)\n",
            "Downloading tensordict-0.8.1-cp313-cp313-manylinux_2_28_x86_64.whl (414 kB)\n",
            "Downloading cloudpickle-3.1.1-py3-none-any.whl (20 kB)\n",
            "Downloading importlib_metadata-8.7.0-py3-none-any.whl (27 kB)\n",
            "Downloading zipp-3.21.0-py3-none-any.whl (9.6 kB)\n",
            "Installing collected packages: zipp, cloudpickle, importlib_metadata, tensordict\n",
            "Successfully installed cloudpickle-3.1.1 importlib_metadata-8.7.0 tensordict-0.8.1 zipp-3.21.0\n"
          ]
        },
        {
          "output_type": "display_data",
          "data": {
            "application/vnd.colab-display-data+json": {
              "pip_warning": {
                "packages": [
                  "importlib_metadata",
                  "zipp"
                ]
              },
              "id": "3398d0ca6d9941acace315dff9bf3765"
            }
          },
          "metadata": {}
        }
      ]
    },
    {
      "cell_type": "code",
      "source": [],
      "metadata": {
        "id": "MPdZXKdlaCAP"
      },
      "execution_count": null,
      "outputs": []
    },
    {
      "cell_type": "code",
      "source": [
        "! conda install pytorch torchvision torchaudio -c pytorch"
      ],
      "metadata": {
        "colab": {
          "base_uri": "https://localhost:8080/"
        },
        "id": "cLJcv7BRZbkD",
        "outputId": "f1b492c4-4af9-490e-fece-cf0d9b96bf09"
      },
      "execution_count": 26,
      "outputs": [
        {
          "output_type": "stream",
          "name": "stdout",
          "text": [
            "Channels:\n",
            " - pytorch\n",
            " - defaults\n",
            "Platform: linux-64\n",
            "Collecting package metadata (repodata.json): - \b\b\\ \b\b| \b\bdone\n",
            "Solving environment: - \b\b\\ \b\b| \b\b/ \b\b- \b\b\\ \b\b| \b\b/ \b\bfailed\n",
            "\n",
            "LibMambaUnsatisfiableError: Encountered problems while solving:\n",
            "  - nothing provides cuda-cudart >=11.7,<11.8 needed by pytorch-cuda-11.7-h778d358_3\n",
            "\n",
            "Could not solve for environment specs\n",
            "The following packages are incompatible\n",
            "├─ \u001b[32mpin on python 3.13.* =* *\u001b[0m is installable and it requires\n",
            "│  └─ \u001b[32mpython =3.13 *\u001b[0m, which can be installed;\n",
            "└─ \u001b[31mtorchvision =* *\u001b[0m is not installable because there are no viable options\n",
            "   ├─ \u001b[31mtorchvision [0.10.0|0.10.1|...|0.9.1]\u001b[0m would require\n",
            "   │  └─ \u001b[31mpython >=3.6,<3.7.0a0 *\u001b[0m, which conflicts with any installable versions previously reported;\n",
            "   ├─ \u001b[31mtorchvision [0.10.0|0.10.1|...|0.9.1]\u001b[0m would require\n",
            "   │  └─ \u001b[31mcudatoolkit >=11.1,<11.2 *\u001b[0m, which does not exist (perhaps a missing channel);\n",
            "   ├─ \u001b[31mtorchvision [0.10.0|0.10.1|...|0.9.1]\u001b[0m would require\n",
            "   │  └─ \u001b[31mpython >=3.7,<3.8.0a0 *\u001b[0m, which conflicts with any installable versions previously reported;\n",
            "   ├─ \u001b[31mtorchvision [0.10.0|0.10.1|...|0.9.1]\u001b[0m would require\n",
            "   │  └─ \u001b[31mpython >=3.8,<3.9.0a0 *\u001b[0m, which conflicts with any installable versions previously reported;\n",
            "   ├─ \u001b[31mtorchvision [0.10.0|0.10.1|...|0.8.2]\u001b[0m would require\n",
            "   │  └─ \u001b[31mpython >=3.9,<3.10.0a0 *\u001b[0m, which conflicts with any installable versions previously reported;\n",
            "   ├─ \u001b[31mtorchvision [0.11.3|0.12.0|...|0.20.1]\u001b[0m would require\n",
            "   │  └─ \u001b[31mpython >=3.10,<3.11.0a0 *\u001b[0m, which conflicts with any installable versions previously reported;\n",
            "   ├─ \u001b[31mtorchvision 0.12.0\u001b[0m would require\n",
            "   │  └─ \u001b[31mcudatoolkit >=11.5,<11.6 *\u001b[0m, which does not exist (perhaps a missing channel);\n",
            "   ├─ \u001b[31mtorchvision [0.13.0|0.13.1]\u001b[0m would require\n",
            "   │  └─ \u001b[31mpython_abi =3.10 *_cp310\u001b[0m, which does not exist (perhaps a missing channel);\n",
            "   ├─ \u001b[31mtorchvision [0.13.0|0.13.1]\u001b[0m would require\n",
            "   │  └─ \u001b[31mpython_abi =3.7 *_cp37m\u001b[0m, which does not exist (perhaps a missing channel);\n",
            "   ├─ \u001b[31mtorchvision [0.13.0|0.13.1]\u001b[0m would require\n",
            "   │  └─ \u001b[31mpython_abi =3.8 *_cp38\u001b[0m, which does not exist (perhaps a missing channel);\n",
            "   ├─ \u001b[31mtorchvision [0.13.0|0.13.1|0.8.2|0.9.0|0.9.1]\u001b[0m would require\n",
            "   │  └─ \u001b[31mpython_abi =3.9 *_cp39\u001b[0m, which does not exist (perhaps a missing channel);\n",
            "   ├─ \u001b[31mtorchvision [0.14.0|0.14.1]\u001b[0m would require\n",
            "   │  └─ \u001b[31mpytorch-cuda =11.6 *\u001b[0m, which requires\n",
            "   │     └─ \u001b[31mcuda =11.6 *\u001b[0m, which does not exist (perhaps a missing channel);\n",
            "   ├─ \u001b[31mtorchvision [0.14.0|0.14.1|0.15.0|0.15.2]\u001b[0m would require\n",
            "   │  └─ \u001b[31mpytorch-cuda =11.7 *\u001b[0m but there are no viable options\n",
            "   │     ├─ \u001b[31mpytorch-cuda 11.7\u001b[0m would require\n",
            "   │     │  └─ \u001b[31mcuda-cudart >=11.7,<11.8 *\u001b[0m, which does not exist (perhaps a missing channel);\n",
            "   │     └─ \u001b[31mpytorch-cuda 11.7\u001b[0m would require\n",
            "   │        └─ \u001b[31mcuda =11.7 *\u001b[0m, which does not exist (perhaps a missing channel);\n",
            "   ├─ \u001b[31mtorchvision [0.15.0|0.15.2|...|0.20.1]\u001b[0m would require\n",
            "   │  └─ \u001b[31mpytorch-cuda =11.8 *\u001b[0m but there are no viable options\n",
            "   │     ├─ \u001b[31mpytorch-cuda 11.8\u001b[0m would require\n",
            "   │     │  └─ \u001b[31mcuda-cudart >=11.8,<12.0 *\u001b[0m, which does not exist (perhaps a missing channel);\n",
            "   │     └─ \u001b[31mpytorch-cuda 11.8\u001b[0m would require\n",
            "   │        └─ \u001b[31mcuda =11.8 *\u001b[0m, which does not exist (perhaps a missing channel);\n",
            "   ├─ \u001b[31mtorchvision [0.15.2|0.16.0|...|0.20.1]\u001b[0m would require\n",
            "   │  └─ \u001b[31mpython >=3.11,<3.12.0a0 *\u001b[0m, which conflicts with any installable versions previously reported;\n",
            "   ├─ \u001b[31mtorchvision [0.16.0|0.16.1|...|0.20.1]\u001b[0m would require\n",
            "   │  └─ \u001b[31mpytorch-cuda =12.1 *\u001b[0m, which requires\n",
            "   │     └─ \u001b[31mcuda-cudart >=12.1,<12.2 *\u001b[0m, which does not exist (perhaps a missing channel);\n",
            "   ├─ \u001b[31mtorchvision [0.17.0|0.17.1|...|0.20.1]\u001b[0m would require\n",
            "   │  └─ \u001b[31mpython >=3.12,<3.13.0a0 *\u001b[0m, which conflicts with any installable versions previously reported;\n",
            "   ├─ \u001b[31mtorchvision [0.2.0|0.2.1|0.6.1]\u001b[0m would require\n",
            "   │  └─ \u001b[31mpython >=3.5,<3.6.0a0 *\u001b[0m, which conflicts with any installable versions previously reported;\n",
            "   └─ \u001b[31mtorchvision [0.2.0|0.2.1|0.3.0|0.4.0|0.4.2]\u001b[0m would require\n",
            "      └─ \u001b[31mpython >=2.7,<2.8.0a0 *\u001b[0m, which conflicts with any installable versions previously reported.\n",
            "\n",
            "Pins seem to be involved in the conflict. Currently pinned specs:\n",
            " - python=3.13\n",
            "\n",
            "\n"
          ]
        }
      ]
    },
    {
      "cell_type": "code",
      "source": [
        "!pip install torch torchvision"
      ],
      "metadata": {
        "colab": {
          "base_uri": "https://localhost:8080/"
        },
        "collapsed": true,
        "id": "KKMNALNYHDYA",
        "outputId": "63b1d017-20e5-412a-8cfd-b19d9a0b24db"
      },
      "execution_count": 25,
      "outputs": [
        {
          "output_type": "stream",
          "name": "stdout",
          "text": [
            "Requirement already satisfied: torch in /usr/local/lib/python3.13/site-packages (2.7.0)\n",
            "Collecting torchvision\n",
            "  Using cached torchvision-0.22.0-cp313-cp313-manylinux_2_28_x86_64.whl.metadata (6.1 kB)\n",
            "Requirement already satisfied: filelock in /usr/local/lib/python3.13/site-packages (from torch) (3.18.0)\n",
            "Requirement already satisfied: typing-extensions>=4.10.0 in /usr/local/lib/python3.13/site-packages (from torch) (4.12.2)\n",
            "Requirement already satisfied: setuptools in /usr/local/lib/python3.13/site-packages (from torch) (78.1.1)\n",
            "Requirement already satisfied: sympy>=1.13.3 in /usr/local/lib/python3.13/site-packages (from torch) (1.14.0)\n",
            "Requirement already satisfied: networkx in /usr/local/lib/python3.13/site-packages (from torch) (3.4.2)\n",
            "Requirement already satisfied: jinja2 in /usr/local/lib/python3.13/site-packages (from torch) (3.1.6)\n",
            "Requirement already satisfied: fsspec in /usr/local/lib/python3.13/site-packages (from torch) (2025.3.2)\n",
            "Requirement already satisfied: nvidia-cuda-nvrtc-cu12==12.6.77 in /usr/local/lib/python3.13/site-packages (from torch) (12.6.77)\n",
            "Requirement already satisfied: nvidia-cuda-runtime-cu12==12.6.77 in /usr/local/lib/python3.13/site-packages (from torch) (12.6.77)\n",
            "Requirement already satisfied: nvidia-cuda-cupti-cu12==12.6.80 in /usr/local/lib/python3.13/site-packages (from torch) (12.6.80)\n",
            "Requirement already satisfied: nvidia-cudnn-cu12==9.5.1.17 in /usr/local/lib/python3.13/site-packages (from torch) (9.5.1.17)\n",
            "Requirement already satisfied: nvidia-cublas-cu12==12.6.4.1 in /usr/local/lib/python3.13/site-packages (from torch) (12.6.4.1)\n",
            "Requirement already satisfied: nvidia-cufft-cu12==11.3.0.4 in /usr/local/lib/python3.13/site-packages (from torch) (11.3.0.4)\n",
            "Requirement already satisfied: nvidia-curand-cu12==10.3.7.77 in /usr/local/lib/python3.13/site-packages (from torch) (10.3.7.77)\n",
            "Requirement already satisfied: nvidia-cusolver-cu12==11.7.1.2 in /usr/local/lib/python3.13/site-packages (from torch) (11.7.1.2)\n",
            "Requirement already satisfied: nvidia-cusparse-cu12==12.5.4.2 in /usr/local/lib/python3.13/site-packages (from torch) (12.5.4.2)\n",
            "Requirement already satisfied: nvidia-cusparselt-cu12==0.6.3 in /usr/local/lib/python3.13/site-packages (from torch) (0.6.3)\n",
            "Requirement already satisfied: nvidia-nccl-cu12==2.26.2 in /usr/local/lib/python3.13/site-packages (from torch) (2.26.2)\n",
            "Requirement already satisfied: nvidia-nvtx-cu12==12.6.77 in /usr/local/lib/python3.13/site-packages (from torch) (12.6.77)\n",
            "Requirement already satisfied: nvidia-nvjitlink-cu12==12.6.85 in /usr/local/lib/python3.13/site-packages (from torch) (12.6.85)\n",
            "Requirement already satisfied: nvidia-cufile-cu12==1.11.1.6 in /usr/local/lib/python3.13/site-packages (from torch) (1.11.1.6)\n",
            "Requirement already satisfied: triton==3.3.0 in /usr/local/lib/python3.13/site-packages (from torch) (3.3.0)\n",
            "Requirement already satisfied: numpy in /usr/local/lib/python3.13/site-packages (from torchvision) (2.2.5)\n",
            "Requirement already satisfied: pillow!=8.3.*,>=5.3.0 in /usr/local/lib/python3.13/site-packages (from torchvision) (11.2.1)\n",
            "Requirement already satisfied: mpmath<1.4,>=1.1.0 in /usr/local/lib/python3.13/site-packages (from sympy>=1.13.3->torch) (1.3.0)\n",
            "Requirement already satisfied: MarkupSafe>=2.0 in /usr/local/lib/python3.13/site-packages (from jinja2->torch) (3.0.2)\n",
            "Using cached torchvision-0.22.0-cp313-cp313-manylinux_2_28_x86_64.whl (7.4 MB)\n",
            "Installing collected packages: torchvision\n",
            "Successfully installed torchvision-0.22.0\n"
          ]
        }
      ]
    },
    {
      "cell_type": "code",
      "source": [],
      "metadata": {
        "id": "N9Xo2ZpGHDaV"
      },
      "execution_count": null,
      "outputs": []
    },
    {
      "cell_type": "code",
      "source": [],
      "metadata": {
        "id": "4Bbg_ojjHDcb"
      },
      "execution_count": null,
      "outputs": []
    },
    {
      "cell_type": "code",
      "source": [],
      "metadata": {
        "id": "bCx6F7aLHDeR"
      },
      "execution_count": null,
      "outputs": []
    }
  ]
}